{
 "cells": [
  {
   "cell_type": "markdown",
   "metadata": {},
   "source": [
    "# Import"
   ]
  },
  {
   "cell_type": "markdown",
   "metadata": {},
   "source": [
    "## Importing Libraries"
   ]
  },
  {
   "cell_type": "code",
   "execution_count": 1,
   "metadata": {},
   "outputs": [],
   "source": [
    "import pandas as pd\n",
    "import numpy as np\n",
    "import matplotlib.pyplot as plt\n",
    "import seaborn as sns\n"
   ]
  },
  {
   "cell_type": "markdown",
   "metadata": {},
   "source": [
    "## Importing data"
   ]
  },
  {
   "cell_type": "code",
   "execution_count": 4,
   "metadata": {},
   "outputs": [
    {
     "data": {
      "text/html": [
       "<div>\n",
       "<style scoped>\n",
       "    .dataframe tbody tr th:only-of-type {\n",
       "        vertical-align: middle;\n",
       "    }\n",
       "\n",
       "    .dataframe tbody tr th {\n",
       "        vertical-align: top;\n",
       "    }\n",
       "\n",
       "    .dataframe thead th {\n",
       "        text-align: right;\n",
       "    }\n",
       "</style>\n",
       "<table border=\"1\" class=\"dataframe\">\n",
       "  <thead>\n",
       "    <tr style=\"text-align: right;\">\n",
       "      <th></th>\n",
       "      <th>sl_no</th>\n",
       "      <th>gender</th>\n",
       "      <th>ssc_p</th>\n",
       "      <th>ssc_b</th>\n",
       "      <th>hsc_p</th>\n",
       "      <th>hsc_b</th>\n",
       "      <th>hsc_s</th>\n",
       "      <th>degree_p</th>\n",
       "      <th>degree_t</th>\n",
       "      <th>workex</th>\n",
       "      <th>etest_p</th>\n",
       "      <th>specialisation</th>\n",
       "      <th>mba_p</th>\n",
       "      <th>status</th>\n",
       "      <th>salary</th>\n",
       "    </tr>\n",
       "  </thead>\n",
       "  <tbody>\n",
       "    <tr>\n",
       "      <th>0</th>\n",
       "      <td>1</td>\n",
       "      <td>M</td>\n",
       "      <td>67.00</td>\n",
       "      <td>Others</td>\n",
       "      <td>91.00</td>\n",
       "      <td>Others</td>\n",
       "      <td>Commerce</td>\n",
       "      <td>58.00</td>\n",
       "      <td>Sci&amp;Tech</td>\n",
       "      <td>No</td>\n",
       "      <td>55.0</td>\n",
       "      <td>Mkt&amp;HR</td>\n",
       "      <td>58.80</td>\n",
       "      <td>Placed</td>\n",
       "      <td>270000.0</td>\n",
       "    </tr>\n",
       "    <tr>\n",
       "      <th>1</th>\n",
       "      <td>2</td>\n",
       "      <td>M</td>\n",
       "      <td>79.33</td>\n",
       "      <td>Central</td>\n",
       "      <td>78.33</td>\n",
       "      <td>Others</td>\n",
       "      <td>Science</td>\n",
       "      <td>77.48</td>\n",
       "      <td>Sci&amp;Tech</td>\n",
       "      <td>Yes</td>\n",
       "      <td>86.5</td>\n",
       "      <td>Mkt&amp;Fin</td>\n",
       "      <td>66.28</td>\n",
       "      <td>Placed</td>\n",
       "      <td>200000.0</td>\n",
       "    </tr>\n",
       "    <tr>\n",
       "      <th>2</th>\n",
       "      <td>3</td>\n",
       "      <td>M</td>\n",
       "      <td>65.00</td>\n",
       "      <td>Central</td>\n",
       "      <td>68.00</td>\n",
       "      <td>Central</td>\n",
       "      <td>Arts</td>\n",
       "      <td>64.00</td>\n",
       "      <td>Comm&amp;Mgmt</td>\n",
       "      <td>No</td>\n",
       "      <td>75.0</td>\n",
       "      <td>Mkt&amp;Fin</td>\n",
       "      <td>57.80</td>\n",
       "      <td>Placed</td>\n",
       "      <td>250000.0</td>\n",
       "    </tr>\n",
       "    <tr>\n",
       "      <th>3</th>\n",
       "      <td>4</td>\n",
       "      <td>M</td>\n",
       "      <td>56.00</td>\n",
       "      <td>Central</td>\n",
       "      <td>52.00</td>\n",
       "      <td>Central</td>\n",
       "      <td>Science</td>\n",
       "      <td>52.00</td>\n",
       "      <td>Sci&amp;Tech</td>\n",
       "      <td>No</td>\n",
       "      <td>66.0</td>\n",
       "      <td>Mkt&amp;HR</td>\n",
       "      <td>59.43</td>\n",
       "      <td>Not Placed</td>\n",
       "      <td>NaN</td>\n",
       "    </tr>\n",
       "    <tr>\n",
       "      <th>4</th>\n",
       "      <td>5</td>\n",
       "      <td>M</td>\n",
       "      <td>85.80</td>\n",
       "      <td>Central</td>\n",
       "      <td>73.60</td>\n",
       "      <td>Central</td>\n",
       "      <td>Commerce</td>\n",
       "      <td>73.30</td>\n",
       "      <td>Comm&amp;Mgmt</td>\n",
       "      <td>No</td>\n",
       "      <td>96.8</td>\n",
       "      <td>Mkt&amp;Fin</td>\n",
       "      <td>55.50</td>\n",
       "      <td>Placed</td>\n",
       "      <td>425000.0</td>\n",
       "    </tr>\n",
       "  </tbody>\n",
       "</table>\n",
       "</div>"
      ],
      "text/plain": [
       "   sl_no gender  ssc_p    ssc_b  hsc_p    hsc_b     hsc_s  degree_p  \\\n",
       "0      1      M  67.00   Others  91.00   Others  Commerce     58.00   \n",
       "1      2      M  79.33  Central  78.33   Others   Science     77.48   \n",
       "2      3      M  65.00  Central  68.00  Central      Arts     64.00   \n",
       "3      4      M  56.00  Central  52.00  Central   Science     52.00   \n",
       "4      5      M  85.80  Central  73.60  Central  Commerce     73.30   \n",
       "\n",
       "    degree_t workex  etest_p specialisation  mba_p      status    salary  \n",
       "0   Sci&Tech     No     55.0         Mkt&HR  58.80      Placed  270000.0  \n",
       "1   Sci&Tech    Yes     86.5        Mkt&Fin  66.28      Placed  200000.0  \n",
       "2  Comm&Mgmt     No     75.0        Mkt&Fin  57.80      Placed  250000.0  \n",
       "3   Sci&Tech     No     66.0         Mkt&HR  59.43  Not Placed       NaN  \n",
       "4  Comm&Mgmt     No     96.8        Mkt&Fin  55.50      Placed  425000.0  "
      ]
     },
     "execution_count": 4,
     "metadata": {},
     "output_type": "execute_result"
    }
   ],
   "source": [
    "dataset = pd.read_csv('Placement_Dataset.csv')\n",
    "dataset.head()"
   ]
  },
  {
   "cell_type": "markdown",
   "metadata": {},
   "source": [
    "# Handling missing values"
   ]
  },
  {
   "cell_type": "markdown",
   "metadata": {},
   "source": [
    "## Total Nan values in each column"
   ]
  },
  {
   "cell_type": "code",
   "execution_count": 6,
   "metadata": {},
   "outputs": [
    {
     "data": {
      "text/plain": [
       "sl_no              0\n",
       "gender             0\n",
       "ssc_p              0\n",
       "ssc_b              0\n",
       "hsc_p              0\n",
       "hsc_b              0\n",
       "hsc_s              0\n",
       "degree_p           0\n",
       "degree_t           0\n",
       "workex             0\n",
       "etest_p            0\n",
       "specialisation     0\n",
       "mba_p              0\n",
       "status             0\n",
       "salary            67\n",
       "dtype: int64"
      ]
     },
     "execution_count": 6,
     "metadata": {},
     "output_type": "execute_result"
    }
   ],
   "source": [
    "dataset.isnull().sum()"
   ]
  },
  {
   "cell_type": "markdown",
   "metadata": {},
   "source": [
    "## Analyze distribution of data"
   ]
  },
  {
   "cell_type": "code",
   "execution_count": 14,
   "metadata": {},
   "outputs": [
    {
     "name": "stderr",
     "output_type": "stream",
     "text": [
      "e:\\Important\\Python\\ML with Python\\ML_with_python\\lib\\site-packages\\seaborn\\distributions.py:2619: FutureWarning: `distplot` is a deprecated function and will be removed in a future version. Please adapt your code to use either `displot` (a figure-level function with similar flexibility) or `histplot` (an axes-level function for histograms).\n",
      "  warnings.warn(msg, FutureWarning)\n"
     ]
    },
    {
     "data": {
      "text/plain": [
       "<AxesSubplot:xlabel='salary', ylabel='Density'>"
      ]
     },
     "execution_count": 14,
     "metadata": {},
     "output_type": "execute_result"
    },
    {
     "data": {
      "image/png": "[encoded data removed]",
      "image/svg+xml": "<?xml version=\"1.0\" encoding=\"utf-8\" standalone=\"no\"?>\n<!DOCTYPE svg PUBLIC \"-//W3C//DTD SVG 1.1//EN\"\n  \"http://www.w3.org/Graphics/SVG/1.1/DTD/svg11.dtd\">\n<svg xmlns:xlink=\"http://www.w3.org/1999/xlink\" width=\"385.78125pt\" height=\"272.794688pt\" viewBox=\"0 0 385.78125 272.794688\" xmlns=\"http://www.w3.org/2000/svg\" version=\"1.1\">\n <metadata>\n  <rdf:RDF xmlns:dc=\"http://purl.org/dc/elements/1.1/\" xmlns:cc=\"http://creativecommons.org/ns#\" xmlns:rdf=\"http://www.w3.org/1999/02/22-rdf-syntax-ns#\">\n   <cc:Work>\n    <dc:type rdf:resource=\"http://purl.org/dc/dcmitype/StillImage\"/>\n    <dc:date>2022-02-07T17:27:42.741292</dc:date>\n    <dc:format>image/svg+xml</dc:format>\n    <dc:creator>\n     <cc:Agent>\n      <dc:title>Matplotlib v3.5.1, https://matplotlib.org/</dc:title>\n     </cc:Agent>\n    </dc:creator>\n   </cc:Work>\n  </rdf:RDF>\n </metadata>\n <defs>\n  <style type=\"text/css\">*{stroke-linejoin: round; stroke-linecap: butt}</style>\n </defs>\n <g id=\"figure_1\">\n  <g id=\"patch_1\">\n   <path d=\"M 0 272.794688 \nL 385.78125 272.794688 \nL 385.78125 0 \nL 0 0 \nL 0 272.794688 \nz\n\" style=\"fill: none\"/>\n  </g>\n  <g id=\"axes_1\">\n   <g id=\"patch_2\">\n    <path d=\"M 43.78125 235.238438 \nL 378.58125 235.238438 \nL 378.58125 17.798438 \nL 43.78125 17.798438 \nz\n\" style=\"fill: #ffffff\"/>\n   </g>\n   <g id=\"patch_3\">\n    <path d=\"M 86.101689 235.238438 \nL 91.104871 235.238438 \nL 91.104871 206.342756 \nL 86.101689 206.342756 \nz\n\" clip-path=\"url(#p83b2b18f7e)\" style=\"fill: #1f77b4; opacity: 0.4\"/>\n   </g>\n   <g id=\"patch_4\">\n    <path d=\"M 91.104871 235.238438 \nL 96.108053 235.238438 \nL 96.108053 208.75073 \nL 91.104871 208.75073 \nz\n\" clip-path=\"url(#p83b2b18f7e)\" style=\"fill: #1f77b4; opacity: 0.4\"/>\n   </g>\n   <g id=\"patch_5\">\n    <path d=\"M 96.108053 235.238438 \nL 101.111236 235.238438 \nL 101.111236 184.670996 \nL 96.108053 184.670996 \nz\n\" clip-path=\"url(#p83b2b18f7e)\" style=\"fill: #1f77b4; opacity: 0.4\"/>\n   </g>\n   <g id=\"patch_6\">\n    <path d=\"M 101.111236 235.238438 \nL 106.114418 235.238438 \nL 106.114418 184.670996 \nL 101.111236 184.670996 \nz\n\" clip-path=\"url(#p83b2b18f7e)\" style=\"fill: #1f77b4; opacity: 0.4\"/>\n   </g>\n   <g id=\"patch_7\">\n    <path d=\"M 106.114418 235.238438 \nL 111.117601 235.238438 \nL 111.117601 28.152723 \nL 106.114418 28.152723 \nz\n\" clip-path=\"url(#p83b2b18f7e)\" style=\"fill: #1f77b4; opacity: 0.4\"/>\n   </g>\n   <g id=\"patch_8\">\n    <path d=\"M 111.117601 235.238438 \nL 116.120783 235.238438 \nL 116.120783 206.342756 \nL 111.117601 206.342756 \nz\n\" clip-path=\"url(#p83b2b18f7e)\" style=\"fill: #1f77b4; opacity: 0.4\"/>\n   </g>\n   <g id=\"patch_9\">\n    <path d=\"M 116.120783 235.238438 \nL 121.123966 235.238438 \nL 121.123966 177.447075 \nL 116.120783 177.447075 \nz\n\" clip-path=\"url(#p83b2b18f7e)\" style=\"fill: #1f77b4; opacity: 0.4\"/>\n   </g>\n   <g id=\"patch_10\">\n    <path d=\"M 121.123966 235.238438 \nL 126.127148 235.238438 \nL 126.127148 235.238438 \nL 121.123966 235.238438 \nz\n\" clip-path=\"url(#p83b2b18f7e)\" style=\"fill: #1f77b4; opacity: 0.4\"/>\n   </g>\n   <g id=\"patch_11\">\n    <path d=\"M 126.127148 235.238438 \nL 131.130331 235.238438 \nL 131.130331 232.830464 \nL 126.127148 232.830464 \nz\n\" clip-path=\"url(#p83b2b18f7e)\" style=\"fill: #1f77b4; opacity: 0.4\"/>\n   </g>\n   <g id=\"patch_12\">\n    <path d=\"M 131.130331 235.238438 \nL 136.133513 235.238438 \nL 136.133513 230.422491 \nL 131.130331 230.422491 \nz\n\" clip-path=\"url(#p83b2b18f7e)\" style=\"fill: #1f77b4; opacity: 0.4\"/>\n   </g>\n   <g id=\"patch_13\">\n    <path d=\"M 136.133513 235.238438 \nL 141.136696 235.238438 \nL 141.136696 213.566677 \nL 136.133513 213.566677 \nz\n\" clip-path=\"url(#p83b2b18f7e)\" style=\"fill: #1f77b4; opacity: 0.4\"/>\n   </g>\n   <g id=\"patch_14\">\n    <path d=\"M 141.136696 235.238438 \nL 146.139878 235.238438 \nL 146.139878 235.238438 \nL 141.136696 235.238438 \nz\n\" clip-path=\"url(#p83b2b18f7e)\" style=\"fill: #1f77b4; opacity: 0.4\"/>\n   </g>\n   <g id=\"patch_15\">\n    <path d=\"M 146.139878 235.238438 \nL 151.14306 235.238438 \nL 151.14306 232.830464 \nL 146.139878 232.830464 \nz\n\" clip-path=\"url(#p83b2b18f7e)\" style=\"fill: #1f77b4; opacity: 0.4\"/>\n   </g>\n   <g id=\"patch_16\">\n    <path d=\"M 151.14306 235.238438 \nL 156.146243 235.238438 \nL 156.146243 223.19857 \nL 151.14306 223.19857 \nz\n\" clip-path=\"url(#p83b2b18f7e)\" style=\"fill: #1f77b4; opacity: 0.4\"/>\n   </g>\n   <g id=\"patch_17\">\n    <path d=\"M 156.146243 235.238438 \nL 161.149425 235.238438 \nL 161.149425 230.422491 \nL 156.146243 230.422491 \nz\n\" clip-path=\"url(#p83b2b18f7e)\" style=\"fill: #1f77b4; opacity: 0.4\"/>\n   </g>\n   <g id=\"patch_18\">\n    <path d=\"M 161.149425 235.238438 \nL 166.152608 235.238438 \nL 166.152608 232.830464 \nL 161.149425 232.830464 \nz\n\" clip-path=\"url(#p83b2b18f7e)\" style=\"fill: #1f77b4; opacity: 0.4\"/>\n   </g>\n   <g id=\"patch_19\">\n    <path d=\"M 166.152608 235.238438 \nL 171.15579 235.238438 \nL 171.15579 232.830464 \nL 166.152608 232.830464 \nz\n\" clip-path=\"url(#p83b2b18f7e)\" style=\"fill: #1f77b4; opacity: 0.4\"/>\n   </g>\n   <g id=\"patch_20\">\n    <path d=\"M 171.15579 235.238438 \nL 176.158973 235.238438 \nL 176.158973 235.238438 \nL 171.15579 235.238438 \nz\n\" clip-path=\"url(#p83b2b18f7e)\" style=\"fill: #1f77b4; opacity: 0.4\"/>\n   </g>\n   <g id=\"patch_21\">\n    <path d=\"M 176.158973 235.238438 \nL 181.162155 235.238438 \nL 181.162155 235.238438 \nL 176.158973 235.238438 \nz\n\" clip-path=\"url(#p83b2b18f7e)\" style=\"fill: #1f77b4; opacity: 0.4\"/>\n   </g>\n   <g id=\"patch_22\">\n    <path d=\"M 181.162155 235.238438 \nL 186.165338 235.238438 \nL 186.165338 235.238438 \nL 181.162155 235.238438 \nz\n\" clip-path=\"url(#p83b2b18f7e)\" style=\"fill: #1f77b4; opacity: 0.4\"/>\n   </g>\n   <g id=\"patch_23\">\n    <path d=\"M 186.165338 235.238438 \nL 191.16852 235.238438 \nL 191.16852 228.014517 \nL 186.165338 228.014517 \nz\n\" clip-path=\"url(#p83b2b18f7e)\" style=\"fill: #1f77b4; opacity: 0.4\"/>\n   </g>\n   <g id=\"patch_24\">\n    <path d=\"M 191.16852 235.238438 \nL 196.171703 235.238438 \nL 196.171703 235.238438 \nL 191.16852 235.238438 \nz\n\" clip-path=\"url(#p83b2b18f7e)\" style=\"fill: #1f77b4; opacity: 0.4\"/>\n   </g>\n   <g id=\"patch_25\">\n    <path d=\"M 196.171703 235.238438 \nL 201.174885 235.238438 \nL 201.174885 235.238438 \nL 196.171703 235.238438 \nz\n\" clip-path=\"url(#p83b2b18f7e)\" style=\"fill: #1f77b4; opacity: 0.4\"/>\n   </g>\n   <g id=\"patch_26\">\n    <path d=\"M 201.174885 235.238438 \nL 206.178068 235.238438 \nL 206.178068 235.238438 \nL 201.174885 235.238438 \nz\n\" clip-path=\"url(#p83b2b18f7e)\" style=\"fill: #1f77b4; opacity: 0.4\"/>\n   </g>\n   <g id=\"patch_27\">\n    <path d=\"M 206.178068 235.238438 \nL 211.18125 235.238438 \nL 211.18125 235.238438 \nL 206.178068 235.238438 \nz\n\" clip-path=\"url(#p83b2b18f7e)\" style=\"fill: #1f77b4; opacity: 0.4\"/>\n   </g>\n   <g id=\"patch_28\">\n    <path d=\"M 211.18125 235.238438 \nL 216.184432 235.238438 \nL 216.184432 235.238438 \nL 211.18125 235.238438 \nz\n\" clip-path=\"url(#p83b2b18f7e)\" style=\"fill: #1f77b4; opacity: 0.4\"/>\n   </g>\n   <g id=\"patch_29\">\n    <path d=\"M 216.184432 235.238438 \nL 221.187615 235.238438 \nL 221.187615 235.238438 \nL 216.184432 235.238438 \nz\n\" clip-path=\"url(#p83b2b18f7e)\" style=\"fill: #1f77b4; opacity: 0.4\"/>\n   </g>\n   <g id=\"patch_30\">\n    <path d=\"M 221.187615 235.238438 \nL 226.190797 235.238438 \nL 226.190797 235.238438 \nL 221.187615 235.238438 \nz\n\" clip-path=\"url(#p83b2b18f7e)\" style=\"fill: #1f77b4; opacity: 0.4\"/>\n   </g>\n   <g id=\"patch_31\">\n    <path d=\"M 226.190797 235.238438 \nL 231.19398 235.238438 \nL 231.19398 235.238438 \nL 226.190797 235.238438 \nz\n\" clip-path=\"url(#p83b2b18f7e)\" style=\"fill: #1f77b4; opacity: 0.4\"/>\n   </g>\n   <g id=\"patch_32\">\n    <path d=\"M 231.19398 235.238438 \nL 236.197162 235.238438 \nL 236.197162 235.238438 \nL 231.19398 235.238438 \nz\n\" clip-path=\"url(#p83b2b18f7e)\" style=\"fill: #1f77b4; opacity: 0.4\"/>\n   </g>\n   <g id=\"patch_33\">\n    <path d=\"M 236.197162 235.238438 \nL 241.200345 235.238438 \nL 241.200345 232.830464 \nL 236.197162 232.830464 \nz\n\" clip-path=\"url(#p83b2b18f7e)\" style=\"fill: #1f77b4; opacity: 0.4\"/>\n   </g>\n   <g id=\"patch_34\">\n    <path d=\"M 241.200345 235.238438 \nL 246.203527 235.238438 \nL 246.203527 235.238438 \nL 241.200345 235.238438 \nz\n\" clip-path=\"url(#p83b2b18f7e)\" style=\"fill: #1f77b4; opacity: 0.4\"/>\n   </g>\n   <g id=\"patch_35\">\n    <path d=\"M 246.203527 235.238438 \nL 251.20671 235.238438 \nL 251.20671 235.238438 \nL 246.203527 235.238438 \nz\n\" clip-path=\"url(#p83b2b18f7e)\" style=\"fill: #1f77b4; opacity: 0.4\"/>\n   </g>\n   <g id=\"patch_36\">\n    <path d=\"M 251.20671 235.238438 \nL 256.209892 235.238438 \nL 256.209892 232.830464 \nL 251.20671 232.830464 \nz\n\" clip-path=\"url(#p83b2b18f7e)\" style=\"fill: #1f77b4; opacity: 0.4\"/>\n   </g>\n   <g id=\"patch_37\">\n    <path d=\"M 256.209892 235.238438 \nL 261.213075 235.238438 \nL 261.213075 235.238438 \nL 256.209892 235.238438 \nz\n\" clip-path=\"url(#p83b2b18f7e)\" style=\"fill: #1f77b4; opacity: 0.4\"/>\n   </g>\n   <g id=\"patch_38\">\n    <path d=\"M 261.213075 235.238438 \nL 266.216257 235.238438 \nL 266.216257 235.238438 \nL 261.213075 235.238438 \nz\n\" clip-path=\"url(#p83b2b18f7e)\" style=\"fill: #1f77b4; opacity: 0.4\"/>\n   </g>\n   <g id=\"patch_39\">\n    <path d=\"M 266.216257 235.238438 \nL 271.21944 235.238438 \nL 271.21944 235.238438 \nL 266.216257 235.238438 \nz\n\" clip-path=\"url(#p83b2b18f7e)\" style=\"fill: #1f77b4; opacity: 0.4\"/>\n   </g>\n   <g id=\"patch_40\">\n    <path d=\"M 271.21944 235.238438 \nL 276.222622 235.238438 \nL 276.222622 235.238438 \nL 271.21944 235.238438 \nz\n\" clip-path=\"url(#p83b2b18f7e)\" style=\"fill: #1f77b4; opacity: 0.4\"/>\n   </g>\n   <g id=\"patch_41\">\n    <path d=\"M 276.222622 235.238438 \nL 281.225804 235.238438 \nL 281.225804 235.238438 \nL 276.222622 235.238438 \nz\n\" clip-path=\"url(#p83b2b18f7e)\" style=\"fill: #1f77b4; opacity: 0.4\"/>\n   </g>\n   <g id=\"patch_42\">\n    <path d=\"M 281.225804 235.238438 \nL 286.228987 235.238438 \nL 286.228987 235.238438 \nL 281.225804 235.238438 \nz\n\" clip-path=\"url(#p83b2b18f7e)\" style=\"fill: #1f77b4; opacity: 0.4\"/>\n   </g>\n   <g id=\"patch_43\">\n    <path d=\"M 286.228987 235.238438 \nL 291.232169 235.238438 \nL 291.232169 235.238438 \nL 286.228987 235.238438 \nz\n\" clip-path=\"url(#p83b2b18f7e)\" style=\"fill: #1f77b4; opacity: 0.4\"/>\n   </g>\n   <g id=\"patch_44\">\n    <path d=\"M 291.232169 235.238438 \nL 296.235352 235.238438 \nL 296.235352 235.238438 \nL 291.232169 235.238438 \nz\n\" clip-path=\"url(#p83b2b18f7e)\" style=\"fill: #1f77b4; opacity: 0.4\"/>\n   </g>\n   <g id=\"patch_45\">\n    <path d=\"M 296.235352 235.238438 \nL 301.238534 235.238438 \nL 301.238534 235.238438 \nL 296.235352 235.238438 \nz\n\" clip-path=\"url(#p83b2b18f7e)\" style=\"fill: #1f77b4; opacity: 0.4\"/>\n   </g>\n   <g id=\"patch_46\">\n    <path d=\"M 301.238534 235.238438 \nL 306.241717 235.238438 \nL 306.241717 235.238438 \nL 301.238534 235.238438 \nz\n\" clip-path=\"url(#p83b2b18f7e)\" style=\"fill: #1f77b4; opacity: 0.4\"/>\n   </g>\n   <g id=\"patch_47\">\n    <path d=\"M 306.241717 235.238438 \nL 311.244899 235.238438 \nL 311.244899 235.238438 \nL 306.241717 235.238438 \nz\n\" clip-path=\"url(#p83b2b18f7e)\" style=\"fill: #1f77b4; opacity: 0.4\"/>\n   </g>\n   <g id=\"patch_48\">\n    <path d=\"M 311.244899 235.238438 \nL 316.248082 235.238438 \nL 316.248082 235.238438 \nL 311.244899 235.238438 \nz\n\" clip-path=\"url(#p83b2b18f7e)\" style=\"fill: #1f77b4; opacity: 0.4\"/>\n   </g>\n   <g id=\"patch_49\">\n    <path d=\"M 316.248082 235.238438 \nL 321.251264 235.238438 \nL 321.251264 235.238438 \nL 316.248082 235.238438 \nz\n\" clip-path=\"url(#p83b2b18f7e)\" style=\"fill: #1f77b4; opacity: 0.4\"/>\n   </g>\n   <g id=\"patch_50\">\n    <path d=\"M 321.251264 235.238438 \nL 326.254447 235.238438 \nL 326.254447 235.238438 \nL 321.251264 235.238438 \nz\n\" clip-path=\"url(#p83b2b18f7e)\" style=\"fill: #1f77b4; opacity: 0.4\"/>\n   </g>\n   <g id=\"patch_51\">\n    <path d=\"M 326.254447 235.238438 \nL 331.257629 235.238438 \nL 331.257629 235.238438 \nL 326.254447 235.238438 \nz\n\" clip-path=\"url(#p83b2b18f7e)\" style=\"fill: #1f77b4; opacity: 0.4\"/>\n   </g>\n   <g id=\"patch_52\">\n    <path d=\"M 331.257629 235.238438 \nL 336.260811 235.238438 \nL 336.260811 232.830464 \nL 331.257629 232.830464 \nz\n\" clip-path=\"url(#p83b2b18f7e)\" style=\"fill: #1f77b4; opacity: 0.4\"/>\n   </g>\n   <g id=\"matplotlib.axis_1\">\n    <g id=\"xtick_1\">\n     <g id=\"line2d_1\">\n      <defs>\n       <path id=\"m4b4ca307b0\" d=\"M 0 0 \nL 0 3.5 \n\" style=\"stroke: #000000; stroke-width: 0.8\"/>\n      </defs>\n      <g>\n       <use xlink:href=\"#m4b4ca307b0\" x=\"86.101689\" y=\"235.238438\" style=\"stroke: #000000; stroke-width: 0.8\"/>\n      </g>\n     </g>\n     <g id=\"text_1\">\n      <!-- 0.2 -->\n      <g transform=\"translate(78.150126 249.836875)scale(0.1 -0.1)\">\n       <defs>\n        <path id=\"DejaVuSans-30\" d=\"M 2034 4250 \nQ 1547 4250 1301 3770 \nQ 1056 3291 1056 2328 \nQ 1056 1369 1301 889 \nQ 1547 409 2034 409 \nQ 2525 409 2770 889 \nQ 3016 1369 3016 2328 \nQ 3016 3291 2770 3770 \nQ 2525 4250 2034 4250 \nz\nM 2034 4750 \nQ 2819 4750 3233 4129 \nQ 3647 3509 3647 2328 \nQ 3647 1150 3233 529 \nQ 2819 -91 2034 -91 \nQ 1250 -91 836 529 \nQ 422 1150 422 2328 \nQ 422 3509 836 4129 \nQ 1250 4750 2034 4750 \nz\n\" transform=\"scale(0.015625)\"/>\n        <path id=\"DejaVuSans-2e\" d=\"M 684 794 \nL 1344 794 \nL 1344 0 \nL 684 0 \nL 684 794 \nz\n\" transform=\"scale(0.015625)\"/>\n        <path id=\"DejaVuSans-32\" d=\"M 1228 531 \nL 3431 531 \nL 3431 0 \nL 469 0 \nL 469 531 \nQ 828 903 1448 1529 \nQ 2069 2156 2228 2338 \nQ 2531 2678 2651 2914 \nQ 2772 3150 2772 3378 \nQ 2772 3750 2511 3984 \nQ 2250 4219 1831 4219 \nQ 1534 4219 1204 4116 \nQ 875 4013 500 3803 \nL 500 4441 \nQ 881 4594 1212 4672 \nQ 1544 4750 1819 4750 \nQ 2544 4750 2975 4387 \nQ 3406 4025 3406 3419 \nQ 3406 3131 3298 2873 \nQ 3191 2616 2906 2266 \nQ 2828 2175 2409 1742 \nQ 1991 1309 1228 531 \nz\n\" transform=\"scale(0.015625)\"/>\n       </defs>\n       <use xlink:href=\"#DejaVuSans-30\"/>\n       <use xlink:href=\"#DejaVuSans-2e\" x=\"63.623047\"/>\n       <use xlink:href=\"#DejaVuSans-32\" x=\"95.410156\"/>\n      </g>\n     </g>\n    </g>\n    <g id=\"xtick_2\">\n     <g id=\"line2d_2\">\n      <g>\n       <use xlink:href=\"#m4b4ca307b0\" x=\"153.712262\" y=\"235.238438\" style=\"stroke: #000000; stroke-width: 0.8\"/>\n      </g>\n     </g>\n     <g id=\"text_2\">\n      <!-- 0.4 -->\n      <g transform=\"translate(145.7607 249.836875)scale(0.1 -0.1)\">\n       <defs>\n        <path id=\"DejaVuSans-34\" d=\"M 2419 4116 \nL 825 1625 \nL 2419 1625 \nL 2419 4116 \nz\nM 2253 4666 \nL 3047 4666 \nL 3047 1625 \nL 3713 1625 \nL 3713 1100 \nL 3047 1100 \nL 3047 0 \nL 2419 0 \nL 2419 1100 \nL 313 1100 \nL 313 1709 \nL 2253 4666 \nz\n\" transform=\"scale(0.015625)\"/>\n       </defs>\n       <use xlink:href=\"#DejaVuSans-30\"/>\n       <use xlink:href=\"#DejaVuSans-2e\" x=\"63.623047\"/>\n       <use xlink:href=\"#DejaVuSans-34\" x=\"95.410156\"/>\n      </g>\n     </g>\n    </g>\n    <g id=\"xtick_3\">\n     <g id=\"line2d_3\">\n      <g>\n       <use xlink:href=\"#m4b4ca307b0\" x=\"221.322836\" y=\"235.238438\" style=\"stroke: #000000; stroke-width: 0.8\"/>\n      </g>\n     </g>\n     <g id=\"text_3\">\n      <!-- 0.6 -->\n      <g transform=\"translate(213.371274 249.836875)scale(0.1 -0.1)\">\n       <defs>\n        <path id=\"DejaVuSans-36\" d=\"M 2113 2584 \nQ 1688 2584 1439 2293 \nQ 1191 2003 1191 1497 \nQ 1191 994 1439 701 \nQ 1688 409 2113 409 \nQ 2538 409 2786 701 \nQ 3034 994 3034 1497 \nQ 3034 2003 2786 2293 \nQ 2538 2584 2113 2584 \nz\nM 3366 4563 \nL 3366 3988 \nQ 3128 4100 2886 4159 \nQ 2644 4219 2406 4219 \nQ 1781 4219 1451 3797 \nQ 1122 3375 1075 2522 \nQ 1259 2794 1537 2939 \nQ 1816 3084 2150 3084 \nQ 2853 3084 3261 2657 \nQ 3669 2231 3669 1497 \nQ 3669 778 3244 343 \nQ 2819 -91 2113 -91 \nQ 1303 -91 875 529 \nQ 447 1150 447 2328 \nQ 447 3434 972 4092 \nQ 1497 4750 2381 4750 \nQ 2619 4750 2861 4703 \nQ 3103 4656 3366 4563 \nz\n\" transform=\"scale(0.015625)\"/>\n       </defs>\n       <use xlink:href=\"#DejaVuSans-30\"/>\n       <use xlink:href=\"#DejaVuSans-2e\" x=\"63.623047\"/>\n       <use xlink:href=\"#DejaVuSans-36\" x=\"95.410156\"/>\n      </g>\n     </g>\n    </g>\n    <g id=\"xtick_4\">\n     <g id=\"line2d_4\">\n      <g>\n       <use xlink:href=\"#m4b4ca307b0\" x=\"288.93341\" y=\"235.238438\" style=\"stroke: #000000; stroke-width: 0.8\"/>\n      </g>\n     </g>\n     <g id=\"text_4\">\n      <!-- 0.8 -->\n      <g transform=\"translate(280.981847 249.836875)scale(0.1 -0.1)\">\n       <defs>\n        <path id=\"DejaVuSans-38\" d=\"M 2034 2216 \nQ 1584 2216 1326 1975 \nQ 1069 1734 1069 1313 \nQ 1069 891 1326 650 \nQ 1584 409 2034 409 \nQ 2484 409 2743 651 \nQ 3003 894 3003 1313 \nQ 3003 1734 2745 1975 \nQ 2488 2216 2034 2216 \nz\nM 1403 2484 \nQ 997 2584 770 2862 \nQ 544 3141 544 3541 \nQ 544 4100 942 4425 \nQ 1341 4750 2034 4750 \nQ 2731 4750 3128 4425 \nQ 3525 4100 3525 3541 \nQ 3525 3141 3298 2862 \nQ 3072 2584 2669 2484 \nQ 3125 2378 3379 2068 \nQ 3634 1759 3634 1313 \nQ 3634 634 3220 271 \nQ 2806 -91 2034 -91 \nQ 1263 -91 848 271 \nQ 434 634 434 1313 \nQ 434 1759 690 2068 \nQ 947 2378 1403 2484 \nz\nM 1172 3481 \nQ 1172 3119 1398 2916 \nQ 1625 2713 2034 2713 \nQ 2441 2713 2670 2916 \nQ 2900 3119 2900 3481 \nQ 2900 3844 2670 4047 \nQ 2441 4250 2034 4250 \nQ 1625 4250 1398 4047 \nQ 1172 3844 1172 3481 \nz\n\" transform=\"scale(0.015625)\"/>\n       </defs>\n       <use xlink:href=\"#DejaVuSans-30\"/>\n       <use xlink:href=\"#DejaVuSans-2e\" x=\"63.623047\"/>\n       <use xlink:href=\"#DejaVuSans-38\" x=\"95.410156\"/>\n      </g>\n     </g>\n    </g>\n    <g id=\"xtick_5\">\n     <g id=\"line2d_5\">\n      <g>\n       <use xlink:href=\"#m4b4ca307b0\" x=\"356.543984\" y=\"235.238438\" style=\"stroke: #000000; stroke-width: 0.8\"/>\n      </g>\n     </g>\n     <g id=\"text_5\">\n      <!-- 1.0 -->\n      <g transform=\"translate(348.592421 249.836875)scale(0.1 -0.1)\">\n       <defs>\n        <path id=\"DejaVuSans-31\" d=\"M 794 531 \nL 1825 531 \nL 1825 4091 \nL 703 3866 \nL 703 4441 \nL 1819 4666 \nL 2450 4666 \nL 2450 531 \nL 3481 531 \nL 3481 0 \nL 794 0 \nL 794 531 \nz\n\" transform=\"scale(0.015625)\"/>\n       </defs>\n       <use xlink:href=\"#DejaVuSans-31\"/>\n       <use xlink:href=\"#DejaVuSans-2e\" x=\"63.623047\"/>\n       <use xlink:href=\"#DejaVuSans-30\" x=\"95.410156\"/>\n      </g>\n     </g>\n    </g>\n    <g id=\"text_6\">\n     <!-- salary -->\n     <g transform=\"translate(196.044531 263.515)scale(0.1 -0.1)\">\n      <defs>\n       <path id=\"DejaVuSans-73\" d=\"M 2834 3397 \nL 2834 2853 \nQ 2591 2978 2328 3040 \nQ 2066 3103 1784 3103 \nQ 1356 3103 1142 2972 \nQ 928 2841 928 2578 \nQ 928 2378 1081 2264 \nQ 1234 2150 1697 2047 \nL 1894 2003 \nQ 2506 1872 2764 1633 \nQ 3022 1394 3022 966 \nQ 3022 478 2636 193 \nQ 2250 -91 1575 -91 \nQ 1294 -91 989 -36 \nQ 684 19 347 128 \nL 347 722 \nQ 666 556 975 473 \nQ 1284 391 1588 391 \nQ 1994 391 2212 530 \nQ 2431 669 2431 922 \nQ 2431 1156 2273 1281 \nQ 2116 1406 1581 1522 \nL 1381 1569 \nQ 847 1681 609 1914 \nQ 372 2147 372 2553 \nQ 372 3047 722 3315 \nQ 1072 3584 1716 3584 \nQ 2034 3584 2315 3537 \nQ 2597 3491 2834 3397 \nz\n\" transform=\"scale(0.015625)\"/>\n       <path id=\"DejaVuSans-61\" d=\"M 2194 1759 \nQ 1497 1759 1228 1600 \nQ 959 1441 959 1056 \nQ 959 750 1161 570 \nQ 1363 391 1709 391 \nQ 2188 391 2477 730 \nQ 2766 1069 2766 1631 \nL 2766 1759 \nL 2194 1759 \nz\nM 3341 1997 \nL 3341 0 \nL 2766 0 \nL 2766 531 \nQ 2569 213 2275 61 \nQ 1981 -91 1556 -91 \nQ 1019 -91 701 211 \nQ 384 513 384 1019 \nQ 384 1609 779 1909 \nQ 1175 2209 1959 2209 \nL 2766 2209 \nL 2766 2266 \nQ 2766 2663 2505 2880 \nQ 2244 3097 1772 3097 \nQ 1472 3097 1187 3025 \nQ 903 2953 641 2809 \nL 641 3341 \nQ 956 3463 1253 3523 \nQ 1550 3584 1831 3584 \nQ 2591 3584 2966 3190 \nQ 3341 2797 3341 1997 \nz\n\" transform=\"scale(0.015625)\"/>\n       <path id=\"DejaVuSans-6c\" d=\"M 603 4863 \nL 1178 4863 \nL 1178 0 \nL 603 0 \nL 603 4863 \nz\n\" transform=\"scale(0.015625)\"/>\n       <path id=\"DejaVuSans-72\" d=\"M 2631 2963 \nQ 2534 3019 2420 3045 \nQ 2306 3072 2169 3072 \nQ 1681 3072 1420 2755 \nQ 1159 2438 1159 1844 \nL 1159 0 \nL 581 0 \nL 581 3500 \nL 1159 3500 \nL 1159 2956 \nQ 1341 3275 1631 3429 \nQ 1922 3584 2338 3584 \nQ 2397 3584 2469 3576 \nQ 2541 3569 2628 3553 \nL 2631 2963 \nz\n\" transform=\"scale(0.015625)\"/>\n       <path id=\"DejaVuSans-79\" d=\"M 2059 -325 \nQ 1816 -950 1584 -1140 \nQ 1353 -1331 966 -1331 \nL 506 -1331 \nL 506 -850 \nL 844 -850 \nQ 1081 -850 1212 -737 \nQ 1344 -625 1503 -206 \nL 1606 56 \nL 191 3500 \nL 800 3500 \nL 1894 763 \nL 2988 3500 \nL 3597 3500 \nL 2059 -325 \nz\n\" transform=\"scale(0.015625)\"/>\n      </defs>\n      <use xlink:href=\"#DejaVuSans-73\"/>\n      <use xlink:href=\"#DejaVuSans-61\" x=\"52.099609\"/>\n      <use xlink:href=\"#DejaVuSans-6c\" x=\"113.378906\"/>\n      <use xlink:href=\"#DejaVuSans-61\" x=\"141.162109\"/>\n      <use xlink:href=\"#DejaVuSans-72\" x=\"202.441406\"/>\n      <use xlink:href=\"#DejaVuSans-79\" x=\"243.554688\"/>\n     </g>\n    </g>\n    <g id=\"text_7\">\n     <!-- 1e6 -->\n     <g transform=\"translate(359.703125 262.515)scale(0.1 -0.1)\">\n      <defs>\n       <path id=\"DejaVuSans-65\" d=\"M 3597 1894 \nL 3597 1613 \nL 953 1613 \nQ 991 1019 1311 708 \nQ 1631 397 2203 397 \nQ 2534 397 2845 478 \nQ 3156 559 3463 722 \nL 3463 178 \nQ 3153 47 2828 -22 \nQ 2503 -91 2169 -91 \nQ 1331 -91 842 396 \nQ 353 884 353 1716 \nQ 353 2575 817 3079 \nQ 1281 3584 2069 3584 \nQ 2775 3584 3186 3129 \nQ 3597 2675 3597 1894 \nz\nM 3022 2063 \nQ 3016 2534 2758 2815 \nQ 2500 3097 2075 3097 \nQ 1594 3097 1305 2825 \nQ 1016 2553 972 2059 \nL 3022 2063 \nz\n\" transform=\"scale(0.015625)\"/>\n      </defs>\n      <use xlink:href=\"#DejaVuSans-31\"/>\n      <use xlink:href=\"#DejaVuSans-65\" x=\"63.623047\"/>\n      <use xlink:href=\"#DejaVuSans-36\" x=\"125.146484\"/>\n     </g>\n    </g>\n   </g>\n   <g id=\"matplotlib.axis_2\">\n    <g id=\"ytick_1\">\n     <g id=\"line2d_6\">\n      <defs>\n       <path id=\"mdbc4f40cf6\" d=\"M 0 0 \nL -3.5 0 \n\" style=\"stroke: #000000; stroke-width: 0.8\"/>\n      </defs>\n      <g>\n       <use xlink:href=\"#mdbc4f40cf6\" x=\"43.78125\" y=\"235.238438\" style=\"stroke: #000000; stroke-width: 0.8\"/>\n      </g>\n     </g>\n     <g id=\"text_8\">\n      <!-- 0.0 -->\n      <g transform=\"translate(20.878125 239.037656)scale(0.1 -0.1)\">\n       <use xlink:href=\"#DejaVuSans-30\"/>\n       <use xlink:href=\"#DejaVuSans-2e\" x=\"63.623047\"/>\n       <use xlink:href=\"#DejaVuSans-30\" x=\"95.410156\"/>\n      </g>\n     </g>\n    </g>\n    <g id=\"ytick_2\">\n     <g id=\"line2d_7\">\n      <g>\n       <use xlink:href=\"#mdbc4f40cf6\" x=\"43.78125\" y=\"196.92758\" style=\"stroke: #000000; stroke-width: 0.8\"/>\n      </g>\n     </g>\n     <g id=\"text_9\">\n      <!-- 0.5 -->\n      <g transform=\"translate(20.878125 200.726799)scale(0.1 -0.1)\">\n       <defs>\n        <path id=\"DejaVuSans-35\" d=\"M 691 4666 \nL 3169 4666 \nL 3169 4134 \nL 1269 4134 \nL 1269 2991 \nQ 1406 3038 1543 3061 \nQ 1681 3084 1819 3084 \nQ 2600 3084 3056 2656 \nQ 3513 2228 3513 1497 \nQ 3513 744 3044 326 \nQ 2575 -91 1722 -91 \nQ 1428 -91 1123 -41 \nQ 819 9 494 109 \nL 494 744 \nQ 775 591 1075 516 \nQ 1375 441 1709 441 \nQ 2250 441 2565 725 \nQ 2881 1009 2881 1497 \nQ 2881 1984 2565 2268 \nQ 2250 2553 1709 2553 \nQ 1456 2553 1204 2497 \nQ 953 2441 691 2322 \nL 691 4666 \nz\n\" transform=\"scale(0.015625)\"/>\n       </defs>\n       <use xlink:href=\"#DejaVuSans-30\"/>\n       <use xlink:href=\"#DejaVuSans-2e\" x=\"63.623047\"/>\n       <use xlink:href=\"#DejaVuSans-35\" x=\"95.410156\"/>\n      </g>\n     </g>\n    </g>\n    <g id=\"ytick_3\">\n     <g id=\"line2d_8\">\n      <g>\n       <use xlink:href=\"#mdbc4f40cf6\" x=\"43.78125\" y=\"158.616723\" style=\"stroke: #000000; stroke-width: 0.8\"/>\n      </g>\n     </g>\n     <g id=\"text_10\">\n      <!-- 1.0 -->\n      <g transform=\"translate(20.878125 162.415942)scale(0.1 -0.1)\">\n       <use xlink:href=\"#DejaVuSans-31\"/>\n       <use xlink:href=\"#DejaVuSans-2e\" x=\"63.623047\"/>\n       <use xlink:href=\"#DejaVuSans-30\" x=\"95.410156\"/>\n      </g>\n     </g>\n    </g>\n    <g id=\"ytick_4\">\n     <g id=\"line2d_9\">\n      <g>\n       <use xlink:href=\"#mdbc4f40cf6\" x=\"43.78125\" y=\"120.305866\" style=\"stroke: #000000; stroke-width: 0.8\"/>\n      </g>\n     </g>\n     <g id=\"text_11\">\n      <!-- 1.5 -->\n      <g transform=\"translate(20.878125 124.105085)scale(0.1 -0.1)\">\n       <use xlink:href=\"#DejaVuSans-31\"/>\n       <use xlink:href=\"#DejaVuSans-2e\" x=\"63.623047\"/>\n       <use xlink:href=\"#DejaVuSans-35\" x=\"95.410156\"/>\n      </g>\n     </g>\n    </g>\n    <g id=\"ytick_5\">\n     <g id=\"line2d_10\">\n      <g>\n       <use xlink:href=\"#mdbc4f40cf6\" x=\"43.78125\" y=\"81.995009\" style=\"stroke: #000000; stroke-width: 0.8\"/>\n      </g>\n     </g>\n     <g id=\"text_12\">\n      <!-- 2.0 -->\n      <g transform=\"translate(20.878125 85.794228)scale(0.1 -0.1)\">\n       <use xlink:href=\"#DejaVuSans-32\"/>\n       <use xlink:href=\"#DejaVuSans-2e\" x=\"63.623047\"/>\n       <use xlink:href=\"#DejaVuSans-30\" x=\"95.410156\"/>\n      </g>\n     </g>\n    </g>\n    <g id=\"ytick_6\">\n     <g id=\"line2d_11\">\n      <g>\n       <use xlink:href=\"#mdbc4f40cf6\" x=\"43.78125\" y=\"43.684152\" style=\"stroke: #000000; stroke-width: 0.8\"/>\n      </g>\n     </g>\n     <g id=\"text_13\">\n      <!-- 2.5 -->\n      <g transform=\"translate(20.878125 47.483371)scale(0.1 -0.1)\">\n       <use xlink:href=\"#DejaVuSans-32\"/>\n       <use xlink:href=\"#DejaVuSans-2e\" x=\"63.623047\"/>\n       <use xlink:href=\"#DejaVuSans-35\" x=\"95.410156\"/>\n      </g>\n     </g>\n    </g>\n    <g id=\"text_14\">\n     <!-- Density -->\n     <g transform=\"translate(14.798438 145.527031)rotate(-90)scale(0.1 -0.1)\">\n      <defs>\n       <path id=\"DejaVuSans-44\" d=\"M 1259 4147 \nL 1259 519 \nL 2022 519 \nQ 2988 519 3436 956 \nQ 3884 1394 3884 2338 \nQ 3884 3275 3436 3711 \nQ 2988 4147 2022 4147 \nL 1259 4147 \nz\nM 628 4666 \nL 1925 4666 \nQ 3281 4666 3915 4102 \nQ 4550 3538 4550 2338 \nQ 4550 1131 3912 565 \nQ 3275 0 1925 0 \nL 628 0 \nL 628 4666 \nz\n\" transform=\"scale(0.015625)\"/>\n       <path id=\"DejaVuSans-6e\" d=\"M 3513 2113 \nL 3513 0 \nL 2938 0 \nL 2938 2094 \nQ 2938 2591 2744 2837 \nQ 2550 3084 2163 3084 \nQ 1697 3084 1428 2787 \nQ 1159 2491 1159 1978 \nL 1159 0 \nL 581 0 \nL 581 3500 \nL 1159 3500 \nL 1159 2956 \nQ 1366 3272 1645 3428 \nQ 1925 3584 2291 3584 \nQ 2894 3584 3203 3211 \nQ 3513 2838 3513 2113 \nz\n\" transform=\"scale(0.015625)\"/>\n       <path id=\"DejaVuSans-69\" d=\"M 603 3500 \nL 1178 3500 \nL 1178 0 \nL 603 0 \nL 603 3500 \nz\nM 603 4863 \nL 1178 4863 \nL 1178 4134 \nL 603 4134 \nL 603 4863 \nz\n\" transform=\"scale(0.015625)\"/>\n       <path id=\"DejaVuSans-74\" d=\"M 1172 4494 \nL 1172 3500 \nL 2356 3500 \nL 2356 3053 \nL 1172 3053 \nL 1172 1153 \nQ 1172 725 1289 603 \nQ 1406 481 1766 481 \nL 2356 481 \nL 2356 0 \nL 1766 0 \nQ 1100 0 847 248 \nQ 594 497 594 1153 \nL 594 3053 \nL 172 3053 \nL 172 3500 \nL 594 3500 \nL 594 4494 \nL 1172 4494 \nz\n\" transform=\"scale(0.015625)\"/>\n      </defs>\n      <use xlink:href=\"#DejaVuSans-44\"/>\n      <use xlink:href=\"#DejaVuSans-65\" x=\"77.001953\"/>\n      <use xlink:href=\"#DejaVuSans-6e\" x=\"138.525391\"/>\n      <use xlink:href=\"#DejaVuSans-73\" x=\"201.904297\"/>\n      <use xlink:href=\"#DejaVuSans-69\" x=\"254.003906\"/>\n      <use xlink:href=\"#DejaVuSans-74\" x=\"281.787109\"/>\n      <use xlink:href=\"#DejaVuSans-79\" x=\"320.996094\"/>\n     </g>\n    </g>\n    <g id=\"text_15\">\n     <!-- 1e−5 -->\n     <g transform=\"translate(43.78125 14.798437)scale(0.1 -0.1)\">\n      <defs>\n       <path id=\"DejaVuSans-2212\" d=\"M 678 2272 \nL 4684 2272 \nL 4684 1741 \nL 678 1741 \nL 678 2272 \nz\n\" transform=\"scale(0.015625)\"/>\n      </defs>\n      <use xlink:href=\"#DejaVuSans-31\"/>\n      <use xlink:href=\"#DejaVuSans-65\" x=\"63.623047\"/>\n      <use xlink:href=\"#DejaVuSans-2212\" x=\"125.146484\"/>\n      <use xlink:href=\"#DejaVuSans-35\" x=\"208.935547\"/>\n     </g>\n    </g>\n   </g>\n   <g id=\"line2d_12\">\n    <path d=\"M 58.999432 235.181159 \nL 63.587828 234.984688 \nL 66.646759 234.636461 \nL 69.70569 233.94476 \nL 71.235156 233.408369 \nL 72.764621 232.707946 \nL 74.294087 231.815344 \nL 75.823552 230.703717 \nL 77.353018 229.348541 \nL 78.882483 227.728022 \nL 80.411949 225.82272 \nL 81.941414 223.614408 \nL 83.47088 221.084547 \nL 85.000345 218.213011 \nL 86.529811 214.977965 \nL 88.059276 211.35782 \nL 89.588742 207.335985 \nL 91.118208 202.908579 \nL 94.177139 192.946708 \nL 100.295001 171.677229 \nL 101.824466 167.239967 \nL 103.353932 163.657958 \nL 104.883397 161.16101 \nL 106.412863 159.923579 \nL 107.942328 160.04279 \nL 109.471794 161.525554 \nL 111.001259 164.287079 \nL 112.530725 168.160919 \nL 114.06019 172.918528 \nL 117.119121 184.014231 \nL 120.178052 195.473965 \nL 121.707518 200.803518 \nL 123.236983 205.67174 \nL 124.766449 209.993839 \nL 126.295914 213.72907 \nL 127.82538 216.874012 \nL 129.354845 219.455091 \nL 130.884311 221.521101 \nL 132.413776 223.136062 \nL 133.943242 224.372498 \nL 135.472707 225.305233 \nL 137.002173 226.005899 \nL 140.061104 226.95632 \nL 144.6495 227.876907 \nL 155.355759 229.785241 \nL 161.473621 231.207708 \nL 167.591483 232.642244 \nL 170.650414 233.169735 \nL 173.709345 233.499688 \nL 176.768276 233.632398 \nL 181.356673 233.580403 \nL 187.474535 233.528256 \nL 192.062931 233.79635 \nL 205.828121 235.032663 \nL 211.945983 235.189415 \nL 221.122776 235.146508 \nL 230.299569 234.844587 \nL 241.005827 234.468654 \nL 248.653155 234.46345 \nL 256.300483 234.697979 \nL 268.536207 235.141901 \nL 279.242465 235.233237 \nL 317.479103 235.177149 \nL 326.655896 234.936117 \nL 335.832689 234.70702 \nL 341.950551 234.802132 \nL 357.245206 235.202601 \nL 363.363068 235.232527 \nL 363.363068 235.232527 \n\" clip-path=\"url(#p83b2b18f7e)\" style=\"fill: none; stroke: #1f77b4; stroke-width: 1.5; stroke-linecap: square\"/>\n   </g>\n   <g id=\"patch_53\">\n    <path d=\"M 43.78125 235.238438 \nL 43.78125 17.798438 \n\" style=\"fill: none; stroke: #000000; stroke-width: 0.8; stroke-linejoin: miter; stroke-linecap: square\"/>\n   </g>\n   <g id=\"patch_54\">\n    <path d=\"M 378.58125 235.238438 \nL 378.58125 17.798438 \n\" style=\"fill: none; stroke: #000000; stroke-width: 0.8; stroke-linejoin: miter; stroke-linecap: square\"/>\n   </g>\n   <g id=\"patch_55\">\n    <path d=\"M 43.78125 235.238438 \nL 378.58125 235.238438 \n\" style=\"fill: none; stroke: #000000; stroke-width: 0.8; stroke-linejoin: miter; stroke-linecap: square\"/>\n   </g>\n   <g id=\"patch_56\">\n    <path d=\"M 43.78125 17.798438 \nL 378.58125 17.798438 \n\" style=\"fill: none; stroke: #000000; stroke-width: 0.8; stroke-linejoin: miter; stroke-linecap: square\"/>\n   </g>\n  </g>\n </g>\n <defs>\n  <clipPath id=\"p83b2b18f7e\">\n   <rect x=\"43.78125\" y=\"17.798438\" width=\"334.8\" height=\"217.44\"/>\n  </clipPath>\n </defs>\n</svg>\n",
      "text/plain": [
       "<Figure size 432x288 with 1 Axes>"
      ]
     },
     "metadata": {
      "needs_background": "light"
     },
     "output_type": "display_data"
    }
   ],
   "source": [
    "# fig,ax=plt.subplots(figsize=(10,10))\n",
    "# sns.boxplot(dataset.salary)\n",
    "#OR\n",
    "sns.distplot(dataset.salary)"
   ]
  },
  {
   "cell_type": "markdown",
   "metadata": {},
   "source": [
    "## (Imputation) Relpacing Nan values with central tendency"
   ]
  },
  {
   "cell_type": "code",
   "execution_count": 13,
   "metadata": {},
   "outputs": [],
   "source": [
    "# Replace missing value with median\n",
    "dataset['salary'].fillna(dataset['salary'].median(), inplace=True)"
   ]
  },
  {
   "cell_type": "markdown",
   "metadata": {},
   "source": [
    "## Dropping"
   ]
  },
  {
   "cell_type": "code",
   "execution_count": 16,
   "metadata": {},
   "outputs": [
    {
     "data": {
      "text/plain": [
       "sl_no             0\n",
       "gender            0\n",
       "ssc_p             0\n",
       "ssc_b             0\n",
       "hsc_p             0\n",
       "hsc_b             0\n",
       "hsc_s             0\n",
       "degree_p          0\n",
       "degree_t          0\n",
       "workex            0\n",
       "etest_p           0\n",
       "specialisation    0\n",
       "mba_p             0\n",
       "status            0\n",
       "salary            0\n",
       "dtype: int64"
      ]
     },
     "execution_count": 16,
     "metadata": {},
     "output_type": "execute_result"
    }
   ],
   "source": [
    "dataset_copy= pd.read_csv('Placement_Dataset.csv')\n",
    "\n",
    "dataset_copy.dropna(inplace=True)\n",
    "\n",
    "dataset.isnull().sum()"
   ]
  },
  {
   "cell_type": "markdown",
   "metadata": {},
   "source": [
    "# Data Standardization"
   ]
  },
  {
   "cell_type": "markdown",
   "metadata": {},
   "source": [
    "## Imports"
   ]
  },
  {
   "cell_type": "code",
   "execution_count": 19,
   "metadata": {},
   "outputs": [],
   "source": [
    "import numpy as np\n",
    "import pandas as pd\n",
    "import sklearn.datasets\n",
    "from sklearn.preprocessing import StandardScaler\n",
    "from sklearn.model_selection import train_test_split\n"
   ]
  },
  {
   "cell_type": "markdown",
   "metadata": {},
   "source": [
    "## Loading dataset from Sklearn"
   ]
  },
  {
   "cell_type": "code",
   "execution_count": 33,
   "metadata": {},
   "outputs": [],
   "source": [
    "dataset=sklearn.datasets.load_breast_cancer() # Load dataset\n",
    "\n",
    "## Convert to pandas dataframe\n",
    "df=pd.DataFrame(dataset.data,columns=dataset.feature_names)"
   ]
  },
  {
   "cell_type": "code",
   "execution_count": 26,
   "metadata": {},
   "outputs": [],
   "source": [
    "X=df\n",
    "y=dataset.target"
   ]
  },
  {
   "cell_type": "markdown",
   "metadata": {},
   "source": [
    "## Split train test"
   ]
  },
  {
   "cell_type": "code",
   "execution_count": 36,
   "metadata": {},
   "outputs": [
    {
     "name": "stdout",
     "output_type": "stream",
     "text": [
      "(569, 30) (455, 30) (114, 30) (455,)\n"
     ]
    }
   ],
   "source": [
    "X_train,X_test,y_train,y_test=train_test_split(X,y,test_size=0.2,random_state=3)\n",
    "print(X.shape,X_train.shape,X_test.shape,y_train.shape)"
   ]
  },
  {
   "cell_type": "markdown",
   "metadata": {},
   "source": [
    "## Standardize"
   ]
  },
  {
   "cell_type": "code",
   "execution_count": 40,
   "metadata": {},
   "outputs": [
    {
     "data": {
      "text/html": [
       "<div>\n",
       "<style scoped>\n",
       "    .dataframe tbody tr th:only-of-type {\n",
       "        vertical-align: middle;\n",
       "    }\n",
       "\n",
       "    .dataframe tbody tr th {\n",
       "        vertical-align: top;\n",
       "    }\n",
       "\n",
       "    .dataframe thead th {\n",
       "        text-align: right;\n",
       "    }\n",
       "</style>\n",
       "<table border=\"1\" class=\"dataframe\">\n",
       "  <thead>\n",
       "    <tr style=\"text-align: right;\">\n",
       "      <th></th>\n",
       "      <th>mean radius</th>\n",
       "      <th>mean texture</th>\n",
       "      <th>mean perimeter</th>\n",
       "      <th>mean area</th>\n",
       "      <th>mean smoothness</th>\n",
       "      <th>mean compactness</th>\n",
       "      <th>mean concavity</th>\n",
       "      <th>mean concave points</th>\n",
       "      <th>mean symmetry</th>\n",
       "      <th>mean fractal dimension</th>\n",
       "      <th>...</th>\n",
       "      <th>worst radius</th>\n",
       "      <th>worst texture</th>\n",
       "      <th>worst perimeter</th>\n",
       "      <th>worst area</th>\n",
       "      <th>worst smoothness</th>\n",
       "      <th>worst compactness</th>\n",
       "      <th>worst concavity</th>\n",
       "      <th>worst concave points</th>\n",
       "      <th>worst symmetry</th>\n",
       "      <th>worst fractal dimension</th>\n",
       "    </tr>\n",
       "  </thead>\n",
       "  <tbody>\n",
       "    <tr>\n",
       "      <th>280</th>\n",
       "      <td>19.16</td>\n",
       "      <td>26.60</td>\n",
       "      <td>126.20</td>\n",
       "      <td>1138.0</td>\n",
       "      <td>0.10200</td>\n",
       "      <td>0.14530</td>\n",
       "      <td>0.19210</td>\n",
       "      <td>0.09664</td>\n",
       "      <td>0.1902</td>\n",
       "      <td>0.06220</td>\n",
       "      <td>...</td>\n",
       "      <td>23.72</td>\n",
       "      <td>35.90</td>\n",
       "      <td>159.80</td>\n",
       "      <td>1724.0</td>\n",
       "      <td>0.1782</td>\n",
       "      <td>0.3841</td>\n",
       "      <td>0.5754</td>\n",
       "      <td>0.18720</td>\n",
       "      <td>0.3258</td>\n",
       "      <td>0.09720</td>\n",
       "    </tr>\n",
       "    <tr>\n",
       "      <th>186</th>\n",
       "      <td>18.31</td>\n",
       "      <td>18.58</td>\n",
       "      <td>118.60</td>\n",
       "      <td>1041.0</td>\n",
       "      <td>0.08588</td>\n",
       "      <td>0.08468</td>\n",
       "      <td>0.08169</td>\n",
       "      <td>0.05814</td>\n",
       "      <td>0.1621</td>\n",
       "      <td>0.05425</td>\n",
       "      <td>...</td>\n",
       "      <td>21.31</td>\n",
       "      <td>26.36</td>\n",
       "      <td>139.20</td>\n",
       "      <td>1410.0</td>\n",
       "      <td>0.1234</td>\n",
       "      <td>0.2445</td>\n",
       "      <td>0.3538</td>\n",
       "      <td>0.15710</td>\n",
       "      <td>0.3206</td>\n",
       "      <td>0.06938</td>\n",
       "    </tr>\n",
       "    <tr>\n",
       "      <th>437</th>\n",
       "      <td>14.04</td>\n",
       "      <td>15.98</td>\n",
       "      <td>89.78</td>\n",
       "      <td>611.2</td>\n",
       "      <td>0.08458</td>\n",
       "      <td>0.05895</td>\n",
       "      <td>0.03534</td>\n",
       "      <td>0.02944</td>\n",
       "      <td>0.1714</td>\n",
       "      <td>0.05898</td>\n",
       "      <td>...</td>\n",
       "      <td>15.66</td>\n",
       "      <td>21.58</td>\n",
       "      <td>101.20</td>\n",
       "      <td>750.0</td>\n",
       "      <td>0.1195</td>\n",
       "      <td>0.1252</td>\n",
       "      <td>0.1117</td>\n",
       "      <td>0.07453</td>\n",
       "      <td>0.2725</td>\n",
       "      <td>0.07234</td>\n",
       "    </tr>\n",
       "    <tr>\n",
       "      <th>329</th>\n",
       "      <td>16.26</td>\n",
       "      <td>21.88</td>\n",
       "      <td>107.50</td>\n",
       "      <td>826.8</td>\n",
       "      <td>0.11650</td>\n",
       "      <td>0.12830</td>\n",
       "      <td>0.17990</td>\n",
       "      <td>0.07981</td>\n",
       "      <td>0.1869</td>\n",
       "      <td>0.06532</td>\n",
       "      <td>...</td>\n",
       "      <td>17.73</td>\n",
       "      <td>25.21</td>\n",
       "      <td>113.70</td>\n",
       "      <td>975.2</td>\n",
       "      <td>0.1426</td>\n",
       "      <td>0.2116</td>\n",
       "      <td>0.3344</td>\n",
       "      <td>0.10470</td>\n",
       "      <td>0.2736</td>\n",
       "      <td>0.07953</td>\n",
       "    </tr>\n",
       "    <tr>\n",
       "      <th>201</th>\n",
       "      <td>17.54</td>\n",
       "      <td>19.32</td>\n",
       "      <td>115.10</td>\n",
       "      <td>951.6</td>\n",
       "      <td>0.08968</td>\n",
       "      <td>0.11980</td>\n",
       "      <td>0.10360</td>\n",
       "      <td>0.07488</td>\n",
       "      <td>0.1506</td>\n",
       "      <td>0.05491</td>\n",
       "      <td>...</td>\n",
       "      <td>20.42</td>\n",
       "      <td>25.84</td>\n",
       "      <td>139.50</td>\n",
       "      <td>1239.0</td>\n",
       "      <td>0.1381</td>\n",
       "      <td>0.3420</td>\n",
       "      <td>0.3508</td>\n",
       "      <td>0.19390</td>\n",
       "      <td>0.2928</td>\n",
       "      <td>0.07867</td>\n",
       "    </tr>\n",
       "    <tr>\n",
       "      <th>...</th>\n",
       "      <td>...</td>\n",
       "      <td>...</td>\n",
       "      <td>...</td>\n",
       "      <td>...</td>\n",
       "      <td>...</td>\n",
       "      <td>...</td>\n",
       "      <td>...</td>\n",
       "      <td>...</td>\n",
       "      <td>...</td>\n",
       "      <td>...</td>\n",
       "      <td>...</td>\n",
       "      <td>...</td>\n",
       "      <td>...</td>\n",
       "      <td>...</td>\n",
       "      <td>...</td>\n",
       "      <td>...</td>\n",
       "      <td>...</td>\n",
       "      <td>...</td>\n",
       "      <td>...</td>\n",
       "      <td>...</td>\n",
       "      <td>...</td>\n",
       "    </tr>\n",
       "    <tr>\n",
       "      <th>480</th>\n",
       "      <td>12.16</td>\n",
       "      <td>18.03</td>\n",
       "      <td>78.29</td>\n",
       "      <td>455.3</td>\n",
       "      <td>0.09087</td>\n",
       "      <td>0.07838</td>\n",
       "      <td>0.02916</td>\n",
       "      <td>0.01527</td>\n",
       "      <td>0.1464</td>\n",
       "      <td>0.06284</td>\n",
       "      <td>...</td>\n",
       "      <td>13.34</td>\n",
       "      <td>27.87</td>\n",
       "      <td>88.83</td>\n",
       "      <td>547.4</td>\n",
       "      <td>0.1208</td>\n",
       "      <td>0.2279</td>\n",
       "      <td>0.1620</td>\n",
       "      <td>0.05690</td>\n",
       "      <td>0.2406</td>\n",
       "      <td>0.07729</td>\n",
       "    </tr>\n",
       "    <tr>\n",
       "      <th>422</th>\n",
       "      <td>11.61</td>\n",
       "      <td>16.02</td>\n",
       "      <td>75.46</td>\n",
       "      <td>408.2</td>\n",
       "      <td>0.10880</td>\n",
       "      <td>0.11680</td>\n",
       "      <td>0.07097</td>\n",
       "      <td>0.04497</td>\n",
       "      <td>0.1886</td>\n",
       "      <td>0.06320</td>\n",
       "      <td>...</td>\n",
       "      <td>12.64</td>\n",
       "      <td>19.67</td>\n",
       "      <td>81.93</td>\n",
       "      <td>475.7</td>\n",
       "      <td>0.1415</td>\n",
       "      <td>0.2170</td>\n",
       "      <td>0.2302</td>\n",
       "      <td>0.11050</td>\n",
       "      <td>0.2787</td>\n",
       "      <td>0.07427</td>\n",
       "    </tr>\n",
       "    <tr>\n",
       "      <th>119</th>\n",
       "      <td>17.95</td>\n",
       "      <td>20.01</td>\n",
       "      <td>114.20</td>\n",
       "      <td>982.0</td>\n",
       "      <td>0.08402</td>\n",
       "      <td>0.06722</td>\n",
       "      <td>0.07293</td>\n",
       "      <td>0.05596</td>\n",
       "      <td>0.2129</td>\n",
       "      <td>0.05025</td>\n",
       "      <td>...</td>\n",
       "      <td>20.58</td>\n",
       "      <td>27.83</td>\n",
       "      <td>129.20</td>\n",
       "      <td>1261.0</td>\n",
       "      <td>0.1072</td>\n",
       "      <td>0.1202</td>\n",
       "      <td>0.2249</td>\n",
       "      <td>0.11850</td>\n",
       "      <td>0.4882</td>\n",
       "      <td>0.06111</td>\n",
       "    </tr>\n",
       "    <tr>\n",
       "      <th>256</th>\n",
       "      <td>19.55</td>\n",
       "      <td>28.77</td>\n",
       "      <td>133.60</td>\n",
       "      <td>1207.0</td>\n",
       "      <td>0.09260</td>\n",
       "      <td>0.20630</td>\n",
       "      <td>0.17840</td>\n",
       "      <td>0.11440</td>\n",
       "      <td>0.1893</td>\n",
       "      <td>0.06232</td>\n",
       "      <td>...</td>\n",
       "      <td>25.05</td>\n",
       "      <td>36.27</td>\n",
       "      <td>178.60</td>\n",
       "      <td>1926.0</td>\n",
       "      <td>0.1281</td>\n",
       "      <td>0.5329</td>\n",
       "      <td>0.4251</td>\n",
       "      <td>0.19410</td>\n",
       "      <td>0.2818</td>\n",
       "      <td>0.10050</td>\n",
       "    </tr>\n",
       "    <tr>\n",
       "      <th>249</th>\n",
       "      <td>11.52</td>\n",
       "      <td>14.93</td>\n",
       "      <td>73.87</td>\n",
       "      <td>406.3</td>\n",
       "      <td>0.10130</td>\n",
       "      <td>0.07808</td>\n",
       "      <td>0.04328</td>\n",
       "      <td>0.02929</td>\n",
       "      <td>0.1883</td>\n",
       "      <td>0.06168</td>\n",
       "      <td>...</td>\n",
       "      <td>12.65</td>\n",
       "      <td>21.19</td>\n",
       "      <td>80.88</td>\n",
       "      <td>491.8</td>\n",
       "      <td>0.1389</td>\n",
       "      <td>0.1582</td>\n",
       "      <td>0.1804</td>\n",
       "      <td>0.09608</td>\n",
       "      <td>0.2664</td>\n",
       "      <td>0.07809</td>\n",
       "    </tr>\n",
       "  </tbody>\n",
       "</table>\n",
       "<p>455 rows × 30 columns</p>\n",
       "</div>"
      ],
      "text/plain": [
       "     mean radius  mean texture  mean perimeter  mean area  mean smoothness  \\\n",
       "280        19.16         26.60          126.20     1138.0          0.10200   \n",
       "186        18.31         18.58          118.60     1041.0          0.08588   \n",
       "437        14.04         15.98           89.78      611.2          0.08458   \n",
       "329        16.26         21.88          107.50      826.8          0.11650   \n",
       "201        17.54         19.32          115.10      951.6          0.08968   \n",
       "..           ...           ...             ...        ...              ...   \n",
       "480        12.16         18.03           78.29      455.3          0.09087   \n",
       "422        11.61         16.02           75.46      408.2          0.10880   \n",
       "119        17.95         20.01          114.20      982.0          0.08402   \n",
       "256        19.55         28.77          133.60     1207.0          0.09260   \n",
       "249        11.52         14.93           73.87      406.3          0.10130   \n",
       "\n",
       "     mean compactness  mean concavity  mean concave points  mean symmetry  \\\n",
       "280           0.14530         0.19210              0.09664         0.1902   \n",
       "186           0.08468         0.08169              0.05814         0.1621   \n",
       "437           0.05895         0.03534              0.02944         0.1714   \n",
       "329           0.12830         0.17990              0.07981         0.1869   \n",
       "201           0.11980         0.10360              0.07488         0.1506   \n",
       "..                ...             ...                  ...            ...   \n",
       "480           0.07838         0.02916              0.01527         0.1464   \n",
       "422           0.11680         0.07097              0.04497         0.1886   \n",
       "119           0.06722         0.07293              0.05596         0.2129   \n",
       "256           0.20630         0.17840              0.11440         0.1893   \n",
       "249           0.07808         0.04328              0.02929         0.1883   \n",
       "\n",
       "     mean fractal dimension  ...  worst radius  worst texture  \\\n",
       "280                 0.06220  ...         23.72          35.90   \n",
       "186                 0.05425  ...         21.31          26.36   \n",
       "437                 0.05898  ...         15.66          21.58   \n",
       "329                 0.06532  ...         17.73          25.21   \n",
       "201                 0.05491  ...         20.42          25.84   \n",
       "..                      ...  ...           ...            ...   \n",
       "480                 0.06284  ...         13.34          27.87   \n",
       "422                 0.06320  ...         12.64          19.67   \n",
       "119                 0.05025  ...         20.58          27.83   \n",
       "256                 0.06232  ...         25.05          36.27   \n",
       "249                 0.06168  ...         12.65          21.19   \n",
       "\n",
       "     worst perimeter  worst area  worst smoothness  worst compactness  \\\n",
       "280           159.80      1724.0            0.1782             0.3841   \n",
       "186           139.20      1410.0            0.1234             0.2445   \n",
       "437           101.20       750.0            0.1195             0.1252   \n",
       "329           113.70       975.2            0.1426             0.2116   \n",
       "201           139.50      1239.0            0.1381             0.3420   \n",
       "..               ...         ...               ...                ...   \n",
       "480            88.83       547.4            0.1208             0.2279   \n",
       "422            81.93       475.7            0.1415             0.2170   \n",
       "119           129.20      1261.0            0.1072             0.1202   \n",
       "256           178.60      1926.0            0.1281             0.5329   \n",
       "249            80.88       491.8            0.1389             0.1582   \n",
       "\n",
       "     worst concavity  worst concave points  worst symmetry  \\\n",
       "280           0.5754               0.18720          0.3258   \n",
       "186           0.3538               0.15710          0.3206   \n",
       "437           0.1117               0.07453          0.2725   \n",
       "329           0.3344               0.10470          0.2736   \n",
       "201           0.3508               0.19390          0.2928   \n",
       "..               ...                   ...             ...   \n",
       "480           0.1620               0.05690          0.2406   \n",
       "422           0.2302               0.11050          0.2787   \n",
       "119           0.2249               0.11850          0.4882   \n",
       "256           0.4251               0.19410          0.2818   \n",
       "249           0.1804               0.09608          0.2664   \n",
       "\n",
       "     worst fractal dimension  \n",
       "280                  0.09720  \n",
       "186                  0.06938  \n",
       "437                  0.07234  \n",
       "329                  0.07953  \n",
       "201                  0.07867  \n",
       "..                       ...  \n",
       "480                  0.07729  \n",
       "422                  0.07427  \n",
       "119                  0.06111  \n",
       "256                  0.10050  \n",
       "249                  0.07809  \n",
       "\n",
       "[455 rows x 30 columns]"
      ]
     },
     "execution_count": 40,
     "metadata": {},
     "output_type": "execute_result"
    }
   ],
   "source": [
    "scaler=StandardScaler()\n",
    "scaler.fit(X_train) # Fit(Compute mean and std) only to the training data\n",
    "X_train_stand=scaler.transform(X_train) \n",
    "X_test_stand=scaler.transform(X_test)\n"
   ]
  },
  {
   "cell_type": "markdown",
   "metadata": {},
   "source": [
    "# Label encoding"
   ]
  },
  {
   "cell_type": "markdown",
   "metadata": {},
   "source": [
    "## Imports"
   ]
  },
  {
   "cell_type": "code",
   "execution_count": 42,
   "metadata": {},
   "outputs": [],
   "source": [
    "from sklearn.preprocessing import LabelEncoder"
   ]
  },
  {
   "cell_type": "markdown",
   "metadata": {},
   "source": [
    "## Label encoding of Breast Cancer dataset\n"
   ]
  },
  {
   "cell_type": "markdown",
   "metadata": {},
   "source": [
    "### Loading dataset"
   ]
  },
  {
   "cell_type": "code",
   "execution_count": 52,
   "metadata": {},
   "outputs": [
    {
     "data": {
      "text/plain": [
       "B    357\n",
       "M    212\n",
       "Name: diagnosis, dtype: int64"
      ]
     },
     "execution_count": 52,
     "metadata": {},
     "output_type": "execute_result"
    }
   ],
   "source": [
    "cancer_df=pd.read_csv('breast_cancer.csv')\n",
    "cancer_df['diagnosis'].value_counts()"
   ]
  },
  {
   "cell_type": "markdown",
   "metadata": {},
   "source": [
    "### Encoding label"
   ]
  },
  {
   "cell_type": "code",
   "execution_count": 53,
   "metadata": {},
   "outputs": [],
   "source": [
    "label_encoder=LabelEncoder()\n",
    "labels=label_encoder.fit_transform(cancer_df['diagnosis'])"
   ]
  },
  {
   "cell_type": "markdown",
   "metadata": {},
   "source": [
    "### Appending encoded label to dataset"
   ]
  },
  {
   "cell_type": "code",
   "execution_count": 54,
   "metadata": {},
   "outputs": [
    {
     "data": {
      "text/html": [
       "<div>\n",
       "<style scoped>\n",
       "    .dataframe tbody tr th:only-of-type {\n",
       "        vertical-align: middle;\n",
       "    }\n",
       "\n",
       "    .dataframe tbody tr th {\n",
       "        vertical-align: top;\n",
       "    }\n",
       "\n",
       "    .dataframe thead th {\n",
       "        text-align: right;\n",
       "    }\n",
       "</style>\n",
       "<table border=\"1\" class=\"dataframe\">\n",
       "  <thead>\n",
       "    <tr style=\"text-align: right;\">\n",
       "      <th></th>\n",
       "      <th>id</th>\n",
       "      <th>diagnosis</th>\n",
       "      <th>radius_mean</th>\n",
       "      <th>texture_mean</th>\n",
       "      <th>perimeter_mean</th>\n",
       "      <th>area_mean</th>\n",
       "      <th>smoothness_mean</th>\n",
       "      <th>compactness_mean</th>\n",
       "      <th>concavity_mean</th>\n",
       "      <th>concave points_mean</th>\n",
       "      <th>...</th>\n",
       "      <th>perimeter_worst</th>\n",
       "      <th>area_worst</th>\n",
       "      <th>smoothness_worst</th>\n",
       "      <th>compactness_worst</th>\n",
       "      <th>concavity_worst</th>\n",
       "      <th>concave points_worst</th>\n",
       "      <th>symmetry_worst</th>\n",
       "      <th>fractal_dimension_worst</th>\n",
       "      <th>Unnamed: 32</th>\n",
       "      <th>target</th>\n",
       "    </tr>\n",
       "  </thead>\n",
       "  <tbody>\n",
       "    <tr>\n",
       "      <th>0</th>\n",
       "      <td>842302</td>\n",
       "      <td>M</td>\n",
       "      <td>17.99</td>\n",
       "      <td>10.38</td>\n",
       "      <td>122.80</td>\n",
       "      <td>1001.0</td>\n",
       "      <td>0.11840</td>\n",
       "      <td>0.27760</td>\n",
       "      <td>0.3001</td>\n",
       "      <td>0.14710</td>\n",
       "      <td>...</td>\n",
       "      <td>184.60</td>\n",
       "      <td>2019.0</td>\n",
       "      <td>0.1622</td>\n",
       "      <td>0.6656</td>\n",
       "      <td>0.7119</td>\n",
       "      <td>0.2654</td>\n",
       "      <td>0.4601</td>\n",
       "      <td>0.11890</td>\n",
       "      <td>NaN</td>\n",
       "      <td>1</td>\n",
       "    </tr>\n",
       "    <tr>\n",
       "      <th>1</th>\n",
       "      <td>842517</td>\n",
       "      <td>M</td>\n",
       "      <td>20.57</td>\n",
       "      <td>17.77</td>\n",
       "      <td>132.90</td>\n",
       "      <td>1326.0</td>\n",
       "      <td>0.08474</td>\n",
       "      <td>0.07864</td>\n",
       "      <td>0.0869</td>\n",
       "      <td>0.07017</td>\n",
       "      <td>...</td>\n",
       "      <td>158.80</td>\n",
       "      <td>1956.0</td>\n",
       "      <td>0.1238</td>\n",
       "      <td>0.1866</td>\n",
       "      <td>0.2416</td>\n",
       "      <td>0.1860</td>\n",
       "      <td>0.2750</td>\n",
       "      <td>0.08902</td>\n",
       "      <td>NaN</td>\n",
       "      <td>1</td>\n",
       "    </tr>\n",
       "    <tr>\n",
       "      <th>2</th>\n",
       "      <td>84300903</td>\n",
       "      <td>M</td>\n",
       "      <td>19.69</td>\n",
       "      <td>21.25</td>\n",
       "      <td>130.00</td>\n",
       "      <td>1203.0</td>\n",
       "      <td>0.10960</td>\n",
       "      <td>0.15990</td>\n",
       "      <td>0.1974</td>\n",
       "      <td>0.12790</td>\n",
       "      <td>...</td>\n",
       "      <td>152.50</td>\n",
       "      <td>1709.0</td>\n",
       "      <td>0.1444</td>\n",
       "      <td>0.4245</td>\n",
       "      <td>0.4504</td>\n",
       "      <td>0.2430</td>\n",
       "      <td>0.3613</td>\n",
       "      <td>0.08758</td>\n",
       "      <td>NaN</td>\n",
       "      <td>1</td>\n",
       "    </tr>\n",
       "    <tr>\n",
       "      <th>3</th>\n",
       "      <td>84348301</td>\n",
       "      <td>M</td>\n",
       "      <td>11.42</td>\n",
       "      <td>20.38</td>\n",
       "      <td>77.58</td>\n",
       "      <td>386.1</td>\n",
       "      <td>0.14250</td>\n",
       "      <td>0.28390</td>\n",
       "      <td>0.2414</td>\n",
       "      <td>0.10520</td>\n",
       "      <td>...</td>\n",
       "      <td>98.87</td>\n",
       "      <td>567.7</td>\n",
       "      <td>0.2098</td>\n",
       "      <td>0.8663</td>\n",
       "      <td>0.6869</td>\n",
       "      <td>0.2575</td>\n",
       "      <td>0.6638</td>\n",
       "      <td>0.17300</td>\n",
       "      <td>NaN</td>\n",
       "      <td>1</td>\n",
       "    </tr>\n",
       "    <tr>\n",
       "      <th>4</th>\n",
       "      <td>84358402</td>\n",
       "      <td>M</td>\n",
       "      <td>20.29</td>\n",
       "      <td>14.34</td>\n",
       "      <td>135.10</td>\n",
       "      <td>1297.0</td>\n",
       "      <td>0.10030</td>\n",
       "      <td>0.13280</td>\n",
       "      <td>0.1980</td>\n",
       "      <td>0.10430</td>\n",
       "      <td>...</td>\n",
       "      <td>152.20</td>\n",
       "      <td>1575.0</td>\n",
       "      <td>0.1374</td>\n",
       "      <td>0.2050</td>\n",
       "      <td>0.4000</td>\n",
       "      <td>0.1625</td>\n",
       "      <td>0.2364</td>\n",
       "      <td>0.07678</td>\n",
       "      <td>NaN</td>\n",
       "      <td>1</td>\n",
       "    </tr>\n",
       "  </tbody>\n",
       "</table>\n",
       "<p>5 rows × 34 columns</p>\n",
       "</div>"
      ],
      "text/plain": [
       "         id diagnosis  radius_mean  texture_mean  perimeter_mean  area_mean  \\\n",
       "0    842302         M        17.99         10.38          122.80     1001.0   \n",
       "1    842517         M        20.57         17.77          132.90     1326.0   \n",
       "2  84300903         M        19.69         21.25          130.00     1203.0   \n",
       "3  84348301         M        11.42         20.38           77.58      386.1   \n",
       "4  84358402         M        20.29         14.34          135.10     1297.0   \n",
       "\n",
       "   smoothness_mean  compactness_mean  concavity_mean  concave points_mean  \\\n",
       "0          0.11840           0.27760          0.3001              0.14710   \n",
       "1          0.08474           0.07864          0.0869              0.07017   \n",
       "2          0.10960           0.15990          0.1974              0.12790   \n",
       "3          0.14250           0.28390          0.2414              0.10520   \n",
       "4          0.10030           0.13280          0.1980              0.10430   \n",
       "\n",
       "   ...  perimeter_worst  area_worst  smoothness_worst  compactness_worst  \\\n",
       "0  ...           184.60      2019.0            0.1622             0.6656   \n",
       "1  ...           158.80      1956.0            0.1238             0.1866   \n",
       "2  ...           152.50      1709.0            0.1444             0.4245   \n",
       "3  ...            98.87       567.7            0.2098             0.8663   \n",
       "4  ...           152.20      1575.0            0.1374             0.2050   \n",
       "\n",
       "   concavity_worst  concave points_worst  symmetry_worst  \\\n",
       "0           0.7119                0.2654          0.4601   \n",
       "1           0.2416                0.1860          0.2750   \n",
       "2           0.4504                0.2430          0.3613   \n",
       "3           0.6869                0.2575          0.6638   \n",
       "4           0.4000                0.1625          0.2364   \n",
       "\n",
       "   fractal_dimension_worst  Unnamed: 32  target  \n",
       "0                  0.11890          NaN       1  \n",
       "1                  0.08902          NaN       1  \n",
       "2                  0.08758          NaN       1  \n",
       "3                  0.17300          NaN       1  \n",
       "4                  0.07678          NaN       1  \n",
       "\n",
       "[5 rows x 34 columns]"
      ]
     },
     "execution_count": 54,
     "metadata": {},
     "output_type": "execute_result"
    }
   ],
   "source": [
    "cancer_df['target']=labels\n",
    "cancer_df.head()"
   ]
  },
  {
   "cell_type": "markdown",
   "metadata": {},
   "source": [
    "## Encoding Iris dataset"
   ]
  },
  {
   "cell_type": "markdown",
   "metadata": {},
   "source": [
    "### Loading dataset"
   ]
  },
  {
   "cell_type": "code",
   "execution_count": 58,
   "metadata": {},
   "outputs": [
    {
     "data": {
      "text/plain": [
       "Iris-setosa        50\n",
       "Iris-versicolor    50\n",
       "Iris-virginica     50\n",
       "Name: Species, dtype: int64"
      ]
     },
     "execution_count": 58,
     "metadata": {},
     "output_type": "execute_result"
    }
   ],
   "source": [
    "iris_df=pd.read_csv('iris_data.csv')\n",
    "# iris_df.head()\n",
    "iris_df.Species.value_counts()"
   ]
  },
  {
   "cell_type": "markdown",
   "metadata": {},
   "source": [
    "### Encoding label"
   ]
  },
  {
   "cell_type": "code",
   "execution_count": 59,
   "metadata": {},
   "outputs": [],
   "source": [
    "label_encoder1=LabelEncoder()\n",
    "labels1=label_encoder1.fit_transform(iris_df['Species'])"
   ]
  },
  {
   "cell_type": "markdown",
   "metadata": {},
   "source": [
    "### Appending encoded label to dataset"
   ]
  },
  {
   "cell_type": "code",
   "execution_count": 60,
   "metadata": {},
   "outputs": [
    {
     "data": {
      "text/html": [
       "<div>\n",
       "<style scoped>\n",
       "    .dataframe tbody tr th:only-of-type {\n",
       "        vertical-align: middle;\n",
       "    }\n",
       "\n",
       "    .dataframe tbody tr th {\n",
       "        vertical-align: top;\n",
       "    }\n",
       "\n",
       "    .dataframe thead th {\n",
       "        text-align: right;\n",
       "    }\n",
       "</style>\n",
       "<table border=\"1\" class=\"dataframe\">\n",
       "  <thead>\n",
       "    <tr style=\"text-align: right;\">\n",
       "      <th></th>\n",
       "      <th>Id</th>\n",
       "      <th>SepalLengthCm</th>\n",
       "      <th>SepalWidthCm</th>\n",
       "      <th>PetalLengthCm</th>\n",
       "      <th>PetalWidthCm</th>\n",
       "      <th>Species</th>\n",
       "      <th>target</th>\n",
       "    </tr>\n",
       "  </thead>\n",
       "  <tbody>\n",
       "    <tr>\n",
       "      <th>0</th>\n",
       "      <td>1</td>\n",
       "      <td>5.1</td>\n",
       "      <td>3.5</td>\n",
       "      <td>1.4</td>\n",
       "      <td>0.2</td>\n",
       "      <td>Iris-setosa</td>\n",
       "      <td>0</td>\n",
       "    </tr>\n",
       "    <tr>\n",
       "      <th>1</th>\n",
       "      <td>2</td>\n",
       "      <td>4.9</td>\n",
       "      <td>3.0</td>\n",
       "      <td>1.4</td>\n",
       "      <td>0.2</td>\n",
       "      <td>Iris-setosa</td>\n",
       "      <td>0</td>\n",
       "    </tr>\n",
       "    <tr>\n",
       "      <th>2</th>\n",
       "      <td>3</td>\n",
       "      <td>4.7</td>\n",
       "      <td>3.2</td>\n",
       "      <td>1.3</td>\n",
       "      <td>0.2</td>\n",
       "      <td>Iris-setosa</td>\n",
       "      <td>0</td>\n",
       "    </tr>\n",
       "    <tr>\n",
       "      <th>3</th>\n",
       "      <td>4</td>\n",
       "      <td>4.6</td>\n",
       "      <td>3.1</td>\n",
       "      <td>1.5</td>\n",
       "      <td>0.2</td>\n",
       "      <td>Iris-setosa</td>\n",
       "      <td>0</td>\n",
       "    </tr>\n",
       "    <tr>\n",
       "      <th>4</th>\n",
       "      <td>5</td>\n",
       "      <td>5.0</td>\n",
       "      <td>3.6</td>\n",
       "      <td>1.4</td>\n",
       "      <td>0.2</td>\n",
       "      <td>Iris-setosa</td>\n",
       "      <td>0</td>\n",
       "    </tr>\n",
       "  </tbody>\n",
       "</table>\n",
       "</div>"
      ],
      "text/plain": [
       "   Id  SepalLengthCm  SepalWidthCm  PetalLengthCm  PetalWidthCm      Species  \\\n",
       "0   1            5.1           3.5            1.4           0.2  Iris-setosa   \n",
       "1   2            4.9           3.0            1.4           0.2  Iris-setosa   \n",
       "2   3            4.7           3.2            1.3           0.2  Iris-setosa   \n",
       "3   4            4.6           3.1            1.5           0.2  Iris-setosa   \n",
       "4   5            5.0           3.6            1.4           0.2  Iris-setosa   \n",
       "\n",
       "   target  \n",
       "0       0  \n",
       "1       0  \n",
       "2       0  \n",
       "3       0  \n",
       "4       0  "
      ]
     },
     "execution_count": 60,
     "metadata": {},
     "output_type": "execute_result"
    }
   ],
   "source": [
    "iris_df['target']=labels1\n",
    "iris_df.head()"
   ]
  },
  {
   "cell_type": "code",
   "execution_count": null,
   "metadata": {},
   "outputs": [],
   "source": []
  }
 ],
 "metadata": {
  "interpreter": {
   "hash": "d6bfbc45f5aed682451bed757b36c0ed870f4365f8ecddf41e4d65b621f95c18"
  },
  "kernelspec": {
   "display_name": "Python 3.9.9 ('ML_with_python': venv)",
   "language": "python",
   "name": "python3"
  },
  "language_info": {
   "codemirror_mode": {
    "name": "ipython",
    "version": 3
   },
   "file_extension": ".py",
   "mimetype": "text/x-python",
   "name": "python",
   "nbconvert_exporter": "python",
   "pygments_lexer": "ipython3",
   "version": "3.9.9"
  },
  "orig_nbformat": 4
 },
 "nbformat": 4,
 "nbformat_minor": 2
}

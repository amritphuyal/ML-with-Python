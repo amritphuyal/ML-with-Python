{
 "cells": [
  {
   "cell_type": "markdown",
   "metadata": {},
   "source": [
    "# Command to install some useful packages\n",
    "\n",
    "Remove comment to install packages and update pip\n",
    "\n",
    "create virtual environment and activate it \n",
    "1.    ` python -m venv env_name ` \\# create virtual environment\n",
    "2.   ` env_name/bin/activate.bat ` \\# activate virtual environment\n",
    " \n"
   ]
  },
  {
   "cell_type": "code",
   "execution_count": 2,
   "metadata": {},
   "outputs": [],
   "source": [
    "# !pip install pandas\n",
    "# !pip install numpy\n",
    "# !pip install sklearn\n",
    "# !pip install matplotlib\n",
    "# !pip install scikit-learn\n",
    "# !pip install scipy\n",
    "# !python -m pip install --upgrade pip\n"
   ]
  },
  {
   "cell_type": "markdown",
   "metadata": {},
   "source": [
    "# Numpy tutorial"
   ]
  },
  {
   "cell_type": "code",
   "execution_count": 3,
   "metadata": {},
   "outputs": [],
   "source": [
    "import numpy as np"
   ]
  },
  {
   "cell_type": "markdown",
   "metadata": {},
   "source": [
    "## Numpy array Creation Methods"
   ]
  },
  {
   "cell_type": "code",
   "execution_count": 4,
   "metadata": {},
   "outputs": [
    {
     "name": "stdout",
     "output_type": "stream",
     "text": [
      "[1 2 3 4 5]\n"
     ]
    },
    {
     "data": {
      "text/plain": [
       "(5,)"
      ]
     },
     "execution_count": 4,
     "metadata": {},
     "output_type": "execute_result"
    }
   ],
   "source": [
    "## 1-D array\n",
    "np_1d_array = np.array([1,2,3,4,5])\n",
    "print(np_1d_array)\n",
    "np_1d_array.shape"
   ]
  },
  {
   "cell_type": "code",
   "execution_count": 5,
   "metadata": {},
   "outputs": [
    {
     "name": "stdout",
     "output_type": "stream",
     "text": [
      "[[ 1  2  3  4  5]\n",
      " [ 6  7  8  9 10]]\n"
     ]
    },
    {
     "data": {
      "text/plain": [
       "(2, 5)"
      ]
     },
     "execution_count": 5,
     "metadata": {},
     "output_type": "execute_result"
    }
   ],
   "source": [
    "#2-D array\n",
    "np_2d_array = np.array([[1,2,3,4,5],[6,7,8,9,10]])\n",
    "print(np_2d_array)\n",
    "np_2d_array.shape"
   ]
  },
  {
   "cell_type": "code",
   "execution_count": 6,
   "metadata": {},
   "outputs": [
    {
     "name": "stdout",
     "output_type": "stream",
     "text": [
      "[[0. 0. 0. 0.]\n",
      " [0. 0. 0. 0.]\n",
      " [0. 0. 0. 0.]]\n"
     ]
    }
   ],
   "source": [
    "#zeros array\n",
    "np_zeros_array = np.zeros((3,4)) # 3 rows and 4 columns with all zeros\n",
    "print(np_zeros_array)"
   ]
  },
  {
   "cell_type": "code",
   "execution_count": 7,
   "metadata": {},
   "outputs": [
    {
     "name": "stdout",
     "output_type": "stream",
     "text": [
      "[[1. 1. 1. 1.]\n",
      " [1. 1. 1. 1.]\n",
      " [1. 1. 1. 1.]]\n"
     ]
    }
   ],
   "source": [
    "#ones array\n",
    "np_ones_array = np.ones((3,4)) # 3 rows and 4 columns with all ones\n",
    "print(np_ones_array)"
   ]
  },
  {
   "cell_type": "code",
   "execution_count": 8,
   "metadata": {},
   "outputs": [
    {
     "name": "stdout",
     "output_type": "stream",
     "text": [
      "[[10 10 10 10]\n",
      " [10 10 10 10]\n",
      " [10 10 10 10]]\n"
     ]
    }
   ],
   "source": [
    "# array with specific values\n",
    "np_10_array = np.full((3,4),10) # 3 rows and 4 columns with all 10\n",
    "print(np_10_array)"
   ]
  },
  {
   "cell_type": "code",
   "execution_count": 9,
   "metadata": {},
   "outputs": [
    {
     "name": "stdout",
     "output_type": "stream",
     "text": [
      "[[1. 0. 0.]\n",
      " [0. 1. 0.]\n",
      " [0. 0. 1.]]\n"
     ]
    }
   ],
   "source": [
    "#indentity matrix\n",
    "np_identity_matrix = np.eye(3) # 3*3 Square matrix with 1 on the diagonal and 0 elsewhere\n",
    "print(np_identity_matrix)"
   ]
  },
  {
   "cell_type": "code",
   "execution_count": 10,
   "metadata": {},
   "outputs": [
    {
     "name": "stdout",
     "output_type": "stream",
     "text": [
      "[[0.69478413 0.09119802 0.81720478 0.6967667 ]\n",
      " [0.59526643 0.9473318  0.29980941 0.90429499]\n",
      " [0.59231932 0.1774471  0.7893203  0.15056442]]\n"
     ]
    }
   ],
   "source": [
    "#random  values array\n",
    "np_random_array = np.random.random((3,4)) # 3 rows and 4 columns with random values\n",
    "print(np_random_array)\n",
    "\n"
   ]
  },
  {
   "cell_type": "code",
   "execution_count": 11,
   "metadata": {},
   "outputs": [
    {
     "name": "stdout",
     "output_type": "stream",
     "text": [
      "[[9 6 4 7]\n",
      " [1 6 5 6]\n",
      " [9 2 3 8]]\n"
     ]
    }
   ],
   "source": [
    "#Random int  values array within range\n",
    "np_random_int_array = np.random.randint(1,10,(3,4)) # 3 rows and 4 columns with random values within range 1-9\n",
    "print(np_random_int_array)"
   ]
  },
  {
   "cell_type": "code",
   "execution_count": 12,
   "metadata": {},
   "outputs": [
    {
     "name": "stdout",
     "output_type": "stream",
     "text": [
      "[ 1.  7. 13. 19. 25.]\n"
     ]
    }
   ],
   "source": [
    "# evenly spaced values  with no of values \n",
    "np_evenly_spaced_array = np.linspace(1,25,5) # 5 evenly spaced values between 1 and 25\n",
    "print(np_evenly_spaced_array)"
   ]
  },
  {
   "cell_type": "code",
   "execution_count": 13,
   "metadata": {},
   "outputs": [
    {
     "name": "stdout",
     "output_type": "stream",
     "text": [
      "[ 1  6 11 16 21]\n"
     ]
    }
   ],
   "source": [
    "# evenly spaced values with step size\n",
    "np_arange_array = np.arange(1,25,5) # evenly spaced values between 1 and 25 with step size 5\n",
    "print(np_arange_array)\n"
   ]
  },
  {
   "cell_type": "code",
   "execution_count": 14,
   "metadata": {},
   "outputs": [
    {
     "name": "stdout",
     "output_type": "stream",
     "text": [
      "[1 2 3 4 5]\n"
     ]
    },
    {
     "data": {
      "text/plain": [
       "numpy.ndarray"
      ]
     },
     "execution_count": 14,
     "metadata": {},
     "output_type": "execute_result"
    }
   ],
   "source": [
    "# create numpy array fromn list\n",
    "python_list = [1,2,3,4,5]\n",
    "np_list_array = np.array(python_list) # create numpy array from python list\n",
    "print(np_list_array)\n",
    "np_list_array.shape\n",
    "type(np_list_array)\n"
   ]
  },
  {
   "cell_type": "markdown",
   "metadata": {},
   "source": [
    "## Analyzing the numpy array"
   ]
  },
  {
   "cell_type": "code",
   "execution_count": 15,
   "metadata": {},
   "outputs": [
    {
     "name": "stdout",
     "output_type": "stream",
     "text": [
      "[[3 4 3 5]\n",
      " [1 2 7 6]\n",
      " [8 9 6 4]]\n"
     ]
    }
   ],
   "source": [
    "# create random int  array \n",
    "np_random_int_array = np.random.randint(1,10,(3,4)) # 3 rows and 4 columns with random values within range 1-9\n",
    "print(np_random_int_array)\n"
   ]
  },
  {
   "cell_type": "code",
   "execution_count": 16,
   "metadata": {},
   "outputs": [
    {
     "name": "stdout",
     "output_type": "stream",
     "text": [
      "(3, 4)\n",
      "2\n",
      "12\n",
      "int32\n"
     ]
    }
   ],
   "source": [
    "# Array Dimensions\n",
    "print(np_random_int_array.shape)\n",
    "\n",
    "# no of  dimensions\n",
    "print (np_random_int_array.ndim)\n",
    "\n",
    "# total no of elements in an array\n",
    "print(np_random_int_array.size)\n",
    "\n",
    "# Array Data Type\n",
    "print(np_random_int_array.dtype)\n"
   ]
  },
  {
   "cell_type": "markdown",
   "metadata": {},
   "source": [
    "## Mathematical operations on numpy arrays\n"
   ]
  },
  {
   "cell_type": "code",
   "execution_count": 17,
   "metadata": {},
   "outputs": [
    {
     "name": "stdout",
     "output_type": "stream",
     "text": [
      "First Array: \n",
      " [[1 4 1 7]\n",
      " [8 4 6 3]\n",
      " [9 4 8 8]]\n",
      "Second Array: \n",
      " [[19 18 17 17]\n",
      " [14 15 11 17]\n",
      " [14 18 17 13]]\n"
     ]
    }
   ],
   "source": [
    "# create numpy array \n",
    "np_random1 = np.random.randint(1,10,(3,4))\n",
    "print('First Array: \\n',np_random1)\n",
    "np_random2 = np.random.randint(10,20,(3,4))\n",
    "print('Second Array: \\n',np_random2)\n"
   ]
  },
  {
   "cell_type": "code",
   "execution_count": 18,
   "metadata": {},
   "outputs": [
    {
     "name": "stdout",
     "output_type": "stream",
     "text": [
      "Suma Array: \n",
      " [[20 22 18 24]\n",
      " [22 19 17 20]\n",
      " [23 22 25 21]]\n"
     ]
    }
   ],
   "source": [
    "\n",
    "# add two arrays\n",
    "np_add_array = np_random1 + np_random2\n",
    "print('Suma Array: \\n',np_add_array)"
   ]
  },
  {
   "cell_type": "code",
   "execution_count": 19,
   "metadata": {},
   "outputs": [
    {
     "name": "stdout",
     "output_type": "stream",
     "text": [
      "[[-18 -14 -16 -10]\n",
      " [ -6 -11  -5 -14]\n",
      " [ -5 -14  -9  -5]]\n",
      "[[ 19  72  17 119]\n",
      " [112  60  66  51]\n",
      " [126  72 136 104]]\n",
      "[[0.05263158 0.22222222 0.05882353 0.41176471]\n",
      " [0.57142857 0.26666667 0.54545455 0.17647059]\n",
      " [0.64285714 0.22222222 0.47058824 0.61538462]]\n"
     ]
    }
   ],
   "source": [
    "# subtract two arrays\n",
    "print (np_random1-np_random2)\n",
    "\n",
    "# multiply two arrays\n",
    "print (np_random1*np_random2)\n",
    "\n",
    "# divide two arrays\n",
    "print (np_random1/np_random2)\n"
   ]
  },
  {
   "cell_type": "code",
   "execution_count": 20,
   "metadata": {},
   "outputs": [
    {
     "name": "stdout",
     "output_type": "stream",
     "text": [
      "[[20 22 18 24]\n",
      " [22 19 17 20]\n",
      " [23 22 25 21]]\n",
      "[[-18 -14 -16 -10]\n",
      " [ -6 -11  -5 -14]\n",
      " [ -5 -14  -9  -5]]\n",
      "[[ 19  72  17 119]\n",
      " [112  60  66  51]\n",
      " [126  72 136 104]]\n",
      "[[0.05263158 0.22222222 0.05882353 0.41176471]\n",
      " [0.57142857 0.26666667 0.54545455 0.17647059]\n",
      " [0.64285714 0.22222222 0.47058824 0.61538462]]\n"
     ]
    }
   ],
   "source": [
    "#using methods\n",
    "print(np.add(np_random1,np_random2))\n",
    "print(np.subtract(np_random1,np_random2))\n",
    "print(np.multiply(np_random1,np_random2))\n",
    "print(np.divide(np_random1,np_random2))\n"
   ]
  },
  {
   "cell_type": "code",
   "execution_count": 21,
   "metadata": {},
   "outputs": [
    {
     "name": "stdout",
     "output_type": "stream",
     "text": [
      "[[1.         2.         1.         2.64575131]\n",
      " [2.82842712 2.         2.44948974 1.73205081]\n",
      " [3.         2.         2.82842712 2.82842712]]\n",
      "[[  1  64   1 343]\n",
      " [512  64 216  27]\n",
      " [729  64 512 512]]\n",
      "[[2.71828183e+00 5.45981500e+01 2.71828183e+00 1.09663316e+03]\n",
      " [2.98095799e+03 5.45981500e+01 4.03428793e+02 2.00855369e+01]\n",
      " [8.10308393e+03 5.45981500e+01 2.98095799e+03 2.98095799e+03]]\n",
      "[[0.         1.38629436 0.         1.94591015]\n",
      " [2.07944154 1.38629436 1.79175947 1.09861229]\n",
      " [2.19722458 1.38629436 2.07944154 2.07944154]]\n",
      "[[0.         0.60205999 0.         0.84509804]\n",
      " [0.90308999 0.60205999 0.77815125 0.47712125]\n",
      " [0.95424251 0.60205999 0.90308999 0.90308999]]\n",
      "[[ 0.84147098 -0.7568025   0.84147098  0.6569866 ]\n",
      " [ 0.98935825 -0.7568025  -0.2794155   0.14112001]\n",
      " [ 0.41211849 -0.7568025   0.98935825  0.98935825]]\n",
      "[[ 0.54030231 -0.65364362  0.54030231  0.75390225]\n",
      " [-0.14550003 -0.65364362  0.96017029 -0.9899925 ]\n",
      " [-0.91113026 -0.65364362 -0.14550003 -0.14550003]]\n",
      "[[ 1.55740772  1.15782128  1.55740772  0.87144798]\n",
      " [-6.79971146  1.15782128 -0.29100619 -0.14254654]\n",
      " [-0.45231566  1.15782128 -6.79971146 -6.79971146]]\n",
      "[[1. 4. 1. 7.]\n",
      " [8. 4. 6. 3.]\n",
      " [9. 4. 8. 8.]]\n",
      "[[1. 4. 1. 7.]\n",
      " [8. 4. 6. 3.]\n",
      " [9. 4. 8. 8.]]\n",
      "[[1. 4. 1. 7.]\n",
      " [8. 4. 6. 3.]\n",
      " [9. 4. 8. 8.]]\n",
      "[[1. 4. 1. 7.]\n",
      " [8. 4. 6. 3.]\n",
      " [9. 4. 8. 8.]]\n",
      "[[1 4 1 7]\n",
      " [8 4 6 3]\n",
      " [9 4 8 8]]\n"
     ]
    }
   ],
   "source": [
    "# universal functions\n",
    "print(np.sqrt(np_random1)) # square root\n",
    "print(np_random1**3) # power of 3\n",
    "print(np.exp(np_random1)) # exponential\n",
    "print(np.log(np_random1)) # logarithm\n",
    "print(np.log10(np_random1)) # logarithm base 10\n",
    "print(np.sin(np_random1)) # sine\n",
    "print(np.cos(np_random1)) # cosine \n",
    "print(np.tan(np_random1)) # tangent\n",
    "print(np.ceil(np_random1)) # ceiling\n",
    "print(np.floor(np_random1)) # floor\n",
    "print(np.rint(np_random1)) # round\n",
    "print(np.fabs(np_random1)) # returns the absolute value of the input array\n",
    "print(np_random1)\n"
   ]
  },
  {
   "cell_type": "code",
   "execution_count": 31,
   "metadata": {},
   "outputs": [
    {
     "name": "stdout",
     "output_type": "stream",
     "text": [
      "[[6. 6.]\n",
      " [6. 6.]\n",
      " [6. 6.]\n",
      " [6. 6.]]\n"
     ]
    }
   ],
   "source": [
    "# Matrix multiplication\n",
    "\n",
    "Matrix_1= np.ones((4,6))\n",
    "Matrix_2= np.ones((6,2))\n",
    "\n",
    "Mat_mul= np.dot(Matrix_1,Matrix_2)\n",
    "print(Mat_mul)\n"
   ]
  },
  {
   "cell_type": "markdown",
   "metadata": {},
   "source": [
    "## Array Manipulation"
   ]
  },
  {
   "cell_type": "code",
   "execution_count": 22,
   "metadata": {},
   "outputs": [
    {
     "name": "stdout",
     "output_type": "stream",
     "text": [
      "[[8 3 9 4]\n",
      " [8 1 5 2]\n",
      " [1 7 5 8]]\n",
      "(3, 4)\n"
     ]
    }
   ],
   "source": [
    "# create numpy array\n",
    "np_random1 = np.random.randint(1,10,(3,4))\n",
    "print(np_random1)\n",
    "print(np_random1.shape)"
   ]
  },
  {
   "cell_type": "code",
   "execution_count": 28,
   "metadata": {},
   "outputs": [
    {
     "name": "stdout",
     "output_type": "stream",
     "text": [
      "[[8 8 1]\n",
      " [3 1 7]\n",
      " [9 5 5]\n",
      " [4 2 8]]\n",
      "(4, 3)\n",
      "Is np.transpose() and .T  gives same value??  [[ True  True  True]\n",
      " [ True  True  True]\n",
      " [ True  True  True]\n",
      " [ True  True  True]]\n"
     ]
    }
   ],
   "source": [
    "# transpose array\n",
    "trans_array_1 = np_random1.T  \n",
    "\n",
    "# another mentod to transpose \n",
    "trans_array_2 = np.transpose (np_random1)\n",
    "\n",
    "print(trans_array_1)\n",
    "print(trans_array_1.shape)\n",
    "\n",
    "result= (trans_array_1 == trans_array_2)\n",
    "\n",
    "print( \"Is np.transpose() and .T  gives same value?? \", result )"
   ]
  },
  {
   "cell_type": "code",
   "execution_count": null,
   "metadata": {},
   "outputs": [
    {
     "name": "stdout",
     "output_type": "stream",
     "text": [
      "[[6 6 7]\n",
      " [5 2 6]\n",
      " [4 6 6]\n",
      " [6 8 6]]\n",
      "(4, 3)\n"
     ]
    }
   ],
   "source": [
    "# Reshaping Array\n",
    "np_reshape_array = np_random1.reshape (4,3)\n",
    "print (np_reshape_array)\n",
    "print( np_reshape_array.shape)\n"
   ]
  },
  {
   "cell_type": "code",
   "execution_count": null,
   "metadata": {},
   "outputs": [
    {
     "name": "stdout",
     "output_type": "stream",
     "text": [
      "[[6 4 7 2]\n",
      " [7 6 6 3]\n",
      " [2 1 3 6]]\n",
      "6\n"
     ]
    }
   ],
   "source": [
    "# Indexing \n",
    "np_random1 = np.random.randint(1,10,(3,4))\n",
    "print(np_random1)\n",
    "\n",
    "print(np_random1[2,3])"
   ]
  },
  {
   "cell_type": "code",
   "execution_count": null,
   "metadata": {},
   "outputs": [
    {
     "name": "stdout",
     "output_type": "stream",
     "text": [
      "[7 2]\n",
      "[6 4 7 2]\n",
      "[7 6 6 3]\n",
      "[2 1 3 6]\n"
     ]
    }
   ],
   "source": [
    "#slicing\n",
    "print(np_random1[1:3,0]) # 2nd row to 3rd row and 1st column\n",
    "\n",
    "#iteration\n",
    "for row in np_random1:\n",
    "    print(row)"
   ]
  },
  {
   "cell_type": "code",
   "execution_count": 25,
   "metadata": {},
   "outputs": [
    {
     "name": "stdout",
     "output_type": "stream",
     "text": [
      "[[0.85714286 1.         0.28571429 0.42857143]\n",
      " [0.         0.85714286 0.71428571 0.14285714]\n",
      " [1.         0.14285714 0.42857143 1.        ]]\n"
     ]
    }
   ],
   "source": [
    "# Normalizaton\n",
    "np_array=np.random.randint(1,10,(3,4))\n",
    "Zmax, Zmin = np_array.max(), np_array.min()\n",
    "np_array = (np_array - Zmin)/(Zmax - Zmin)\n",
    "print(np_array)"
   ]
  },
  {
   "cell_type": "markdown",
   "metadata": {},
   "source": [
    "# Pandas Tutorial"
   ]
  },
  {
   "cell_type": "markdown",
   "metadata": {},
   "source": [
    "## Import library and Datas"
   ]
  },
  {
   "cell_type": "code",
   "execution_count": 14,
   "metadata": {},
   "outputs": [],
   "source": [
    "import pandas as pd\n",
    "\n",
    "#importing data from sklearn library\n",
    "from sklearn.datasets import fetch_california_housing\n",
    "california_housing_dataset=fetch_california_housing()\n",
    "\n",
    "\n",
    "\n",
    "\n"
   ]
  },
  {
   "cell_type": "markdown",
   "metadata": {},
   "source": [
    "## DataFrame Creation"
   ]
  },
  {
   "cell_type": "code",
   "execution_count": 22,
   "metadata": {},
   "outputs": [],
   "source": [
    "# convert dataset to dataframe and assign column names\n",
    "california_housing_dataframe =pd.DataFrame(california_housing_dataset.data , columns=california_housing_dataset.feature_names)  \n",
    "\n",
    "\n",
    "#importing data from csv file\n",
    "diabetes_dataframe = pd.read_csv(\"diabetes.csv\")\n",
    "\n",
    "# #save to csv ( california Housing Dataset)\n",
    "# california_housing_dataframe.to_csv('california_housing.csv')"
   ]
  },
  {
   "cell_type": "markdown",
   "metadata": {},
   "source": [
    "## DataFrame Informaion\n"
   ]
  },
  {
   "cell_type": "code",
   "execution_count": 23,
   "metadata": {},
   "outputs": [
    {
     "data": {
      "text/html": [
       "<div>\n",
       "<style scoped>\n",
       "    .dataframe tbody tr th:only-of-type {\n",
       "        vertical-align: middle;\n",
       "    }\n",
       "\n",
       "    .dataframe tbody tr th {\n",
       "        vertical-align: top;\n",
       "    }\n",
       "\n",
       "    .dataframe thead th {\n",
       "        text-align: right;\n",
       "    }\n",
       "</style>\n",
       "<table border=\"1\" class=\"dataframe\">\n",
       "  <thead>\n",
       "    <tr style=\"text-align: right;\">\n",
       "      <th></th>\n",
       "      <th>Pregnancies</th>\n",
       "      <th>Glucose</th>\n",
       "      <th>BloodPressure</th>\n",
       "      <th>SkinThickness</th>\n",
       "      <th>Insulin</th>\n",
       "      <th>BMI</th>\n",
       "      <th>DiabetesPedigreeFunction</th>\n",
       "      <th>Age</th>\n",
       "      <th>Outcome</th>\n",
       "    </tr>\n",
       "  </thead>\n",
       "  <tbody>\n",
       "    <tr>\n",
       "      <th>0</th>\n",
       "      <td>6</td>\n",
       "      <td>148</td>\n",
       "      <td>72</td>\n",
       "      <td>35</td>\n",
       "      <td>0</td>\n",
       "      <td>33.6</td>\n",
       "      <td>0.627</td>\n",
       "      <td>50</td>\n",
       "      <td>1</td>\n",
       "    </tr>\n",
       "    <tr>\n",
       "      <th>1</th>\n",
       "      <td>1</td>\n",
       "      <td>85</td>\n",
       "      <td>66</td>\n",
       "      <td>29</td>\n",
       "      <td>0</td>\n",
       "      <td>26.6</td>\n",
       "      <td>0.351</td>\n",
       "      <td>31</td>\n",
       "      <td>0</td>\n",
       "    </tr>\n",
       "    <tr>\n",
       "      <th>2</th>\n",
       "      <td>8</td>\n",
       "      <td>183</td>\n",
       "      <td>64</td>\n",
       "      <td>0</td>\n",
       "      <td>0</td>\n",
       "      <td>23.3</td>\n",
       "      <td>0.672</td>\n",
       "      <td>32</td>\n",
       "      <td>1</td>\n",
       "    </tr>\n",
       "    <tr>\n",
       "      <th>3</th>\n",
       "      <td>1</td>\n",
       "      <td>89</td>\n",
       "      <td>66</td>\n",
       "      <td>23</td>\n",
       "      <td>94</td>\n",
       "      <td>28.1</td>\n",
       "      <td>0.167</td>\n",
       "      <td>21</td>\n",
       "      <td>0</td>\n",
       "    </tr>\n",
       "    <tr>\n",
       "      <th>4</th>\n",
       "      <td>0</td>\n",
       "      <td>137</td>\n",
       "      <td>40</td>\n",
       "      <td>35</td>\n",
       "      <td>168</td>\n",
       "      <td>43.1</td>\n",
       "      <td>2.288</td>\n",
       "      <td>33</td>\n",
       "      <td>1</td>\n",
       "    </tr>\n",
       "  </tbody>\n",
       "</table>\n",
       "</div>"
      ],
      "text/plain": [
       "   Pregnancies  Glucose  BloodPressure  SkinThickness  Insulin   BMI  \\\n",
       "0            6      148             72             35        0  33.6   \n",
       "1            1       85             66             29        0  26.6   \n",
       "2            8      183             64              0        0  23.3   \n",
       "3            1       89             66             23       94  28.1   \n",
       "4            0      137             40             35      168  43.1   \n",
       "\n",
       "   DiabetesPedigreeFunction  Age  Outcome  \n",
       "0                     0.627   50        1  \n",
       "1                     0.351   31        0  \n",
       "2                     0.672   32        1  \n",
       "3                     0.167   21        0  \n",
       "4                     2.288   33        1  "
      ]
     },
     "execution_count": 23,
     "metadata": {},
     "output_type": "execute_result"
    }
   ],
   "source": [
    "# print first five rows with headers \n",
    "california_housing_dataframe.head()\n",
    "# diabetes_dataframe.head()"
   ]
  },
  {
   "cell_type": "code",
   "execution_count": 25,
   "metadata": {},
   "outputs": [
    {
     "data": {
      "text/plain": [
       "(20640, 8)"
      ]
     },
     "execution_count": 25,
     "metadata": {},
     "output_type": "execute_result"
    }
   ],
   "source": [
    "#Dimension  of dataframe\n",
    "california_housing_dataframe.shape\n",
    "# diabetes_dataframe.shape\n"
   ]
  },
  {
   "cell_type": "code",
   "execution_count": 24,
   "metadata": {},
   "outputs": [
    {
     "data": {
      "text/html": [
       "<div>\n",
       "<style scoped>\n",
       "    .dataframe tbody tr th:only-of-type {\n",
       "        vertical-align: middle;\n",
       "    }\n",
       "\n",
       "    .dataframe tbody tr th {\n",
       "        vertical-align: top;\n",
       "    }\n",
       "\n",
       "    .dataframe thead th {\n",
       "        text-align: right;\n",
       "    }\n",
       "</style>\n",
       "<table border=\"1\" class=\"dataframe\">\n",
       "  <thead>\n",
       "    <tr style=\"text-align: right;\">\n",
       "      <th></th>\n",
       "      <th>MedInc</th>\n",
       "      <th>HouseAge</th>\n",
       "      <th>AveRooms</th>\n",
       "      <th>AveBedrms</th>\n",
       "      <th>Population</th>\n",
       "      <th>AveOccup</th>\n",
       "      <th>Latitude</th>\n",
       "      <th>Longitude</th>\n",
       "    </tr>\n",
       "  </thead>\n",
       "  <tbody>\n",
       "    <tr>\n",
       "      <th>count</th>\n",
       "      <td>20640.000000</td>\n",
       "      <td>20640.000000</td>\n",
       "      <td>20640.000000</td>\n",
       "      <td>20640.000000</td>\n",
       "      <td>20640.000000</td>\n",
       "      <td>20640.000000</td>\n",
       "      <td>20640.000000</td>\n",
       "      <td>20640.000000</td>\n",
       "    </tr>\n",
       "    <tr>\n",
       "      <th>mean</th>\n",
       "      <td>3.870671</td>\n",
       "      <td>28.639486</td>\n",
       "      <td>5.429000</td>\n",
       "      <td>1.096675</td>\n",
       "      <td>1425.476744</td>\n",
       "      <td>3.070655</td>\n",
       "      <td>35.631861</td>\n",
       "      <td>-119.569704</td>\n",
       "    </tr>\n",
       "    <tr>\n",
       "      <th>std</th>\n",
       "      <td>1.899822</td>\n",
       "      <td>12.585558</td>\n",
       "      <td>2.474173</td>\n",
       "      <td>0.473911</td>\n",
       "      <td>1132.462122</td>\n",
       "      <td>10.386050</td>\n",
       "      <td>2.135952</td>\n",
       "      <td>2.003532</td>\n",
       "    </tr>\n",
       "    <tr>\n",
       "      <th>min</th>\n",
       "      <td>0.499900</td>\n",
       "      <td>1.000000</td>\n",
       "      <td>0.846154</td>\n",
       "      <td>0.333333</td>\n",
       "      <td>3.000000</td>\n",
       "      <td>0.692308</td>\n",
       "      <td>32.540000</td>\n",
       "      <td>-124.350000</td>\n",
       "    </tr>\n",
       "    <tr>\n",
       "      <th>25%</th>\n",
       "      <td>2.563400</td>\n",
       "      <td>18.000000</td>\n",
       "      <td>4.440716</td>\n",
       "      <td>1.006079</td>\n",
       "      <td>787.000000</td>\n",
       "      <td>2.429741</td>\n",
       "      <td>33.930000</td>\n",
       "      <td>-121.800000</td>\n",
       "    </tr>\n",
       "    <tr>\n",
       "      <th>50%</th>\n",
       "      <td>3.534800</td>\n",
       "      <td>29.000000</td>\n",
       "      <td>5.229129</td>\n",
       "      <td>1.048780</td>\n",
       "      <td>1166.000000</td>\n",
       "      <td>2.818116</td>\n",
       "      <td>34.260000</td>\n",
       "      <td>-118.490000</td>\n",
       "    </tr>\n",
       "    <tr>\n",
       "      <th>75%</th>\n",
       "      <td>4.743250</td>\n",
       "      <td>37.000000</td>\n",
       "      <td>6.052381</td>\n",
       "      <td>1.099526</td>\n",
       "      <td>1725.000000</td>\n",
       "      <td>3.282261</td>\n",
       "      <td>37.710000</td>\n",
       "      <td>-118.010000</td>\n",
       "    </tr>\n",
       "    <tr>\n",
       "      <th>max</th>\n",
       "      <td>15.000100</td>\n",
       "      <td>52.000000</td>\n",
       "      <td>141.909091</td>\n",
       "      <td>34.066667</td>\n",
       "      <td>35682.000000</td>\n",
       "      <td>1243.333333</td>\n",
       "      <td>41.950000</td>\n",
       "      <td>-114.310000</td>\n",
       "    </tr>\n",
       "  </tbody>\n",
       "</table>\n",
       "</div>"
      ],
      "text/plain": [
       "             MedInc      HouseAge      AveRooms     AveBedrms    Population  \\\n",
       "count  20640.000000  20640.000000  20640.000000  20640.000000  20640.000000   \n",
       "mean       3.870671     28.639486      5.429000      1.096675   1425.476744   \n",
       "std        1.899822     12.585558      2.474173      0.473911   1132.462122   \n",
       "min        0.499900      1.000000      0.846154      0.333333      3.000000   \n",
       "25%        2.563400     18.000000      4.440716      1.006079    787.000000   \n",
       "50%        3.534800     29.000000      5.229129      1.048780   1166.000000   \n",
       "75%        4.743250     37.000000      6.052381      1.099526   1725.000000   \n",
       "max       15.000100     52.000000    141.909091     34.066667  35682.000000   \n",
       "\n",
       "           AveOccup      Latitude     Longitude  \n",
       "count  20640.000000  20640.000000  20640.000000  \n",
       "mean       3.070655     35.631861   -119.569704  \n",
       "std       10.386050      2.135952      2.003532  \n",
       "min        0.692308     32.540000   -124.350000  \n",
       "25%        2.429741     33.930000   -121.800000  \n",
       "50%        2.818116     34.260000   -118.490000  \n",
       "75%        3.282261     37.710000   -118.010000  \n",
       "max     1243.333333     41.950000   -114.310000  "
      ]
     },
     "execution_count": 24,
     "metadata": {},
     "output_type": "execute_result"
    }
   ],
   "source": [
    "#describe dataframe (summary)\n",
    "california_housing_dataframe.describe()\n",
    "# diabetes_dataframe.describe()"
   ]
  },
  {
   "cell_type": "code",
   "execution_count": null,
   "metadata": {},
   "outputs": [],
   "source": []
  }
 ],
 "metadata": {
  "interpreter": {
   "hash": "6ce60608b42cef12d09cf7c90f80adb67a3cc93b99bc874930edd9df670e5bf5"
  },
  "kernelspec": {
   "display_name": "Python 3.10.1 64-bit ('ML': venv)",
   "language": "python",
   "name": "python3"
  },
  "language_info": {
   "codemirror_mode": {
    "name": "ipython",
    "version": 3
   },
   "file_extension": ".py",
   "mimetype": "text/x-python",
   "name": "python",
   "nbconvert_exporter": "python",
   "pygments_lexer": "ipython3",
   "version": "3.10.1"
  },
  "orig_nbformat": 4
 },
 "nbformat": 4,
 "nbformat_minor": 2
}
